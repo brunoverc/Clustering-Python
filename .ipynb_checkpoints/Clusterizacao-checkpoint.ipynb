{
 "cells": [
  {
   "cell_type": "markdown",
   "metadata": {},
   "source": [
    "### Agrupar Mineradoras de acordo com os dados de Exploração Mineral\n",
    "\n",
    "#### Dataset: Compensação Financeira pela Exploração de Recursos Minerais (CFEM)\n",
    "#### Fonte: https://dados.gov.br/dataset/sistema-arrecadacao"
   ]
  },
  {
   "cell_type": "code",
   "execution_count": 1,
   "metadata": {},
   "outputs": [],
   "source": [
    "# Imports\n",
    "import pandas as pd\n",
    "import numpy as np\n",
    "import matplotlib.pyplot as plt\n",
    "from matplotlib import pylab\n",
    "from sklearn.cluster import KMeans\n",
    "from sklearn.decomposition import PCA\n",
    "from sklearn.model_selection import train_test_split\n",
    "from scipy.spatial.distance import cdist, pdist\n",
    "from sklearn.metrics import silhouette_score\n",
    "import warnings\n",
    "warnings.filterwarnings(\"ignore\")\n",
    "%matplotlib inline"
   ]
  },
  {
   "cell_type": "code",
   "execution_count": 2,
   "metadata": {},
   "outputs": [],
   "source": [
    "# Carregando os dados\n",
    "dataset = pd.read_csv('dados/exploracaoRecursosMinerais.csv', sep=',', encoding='latin-1')"
   ]
  },
  {
   "cell_type": "code",
   "execution_count": 3,
   "metadata": {},
   "outputs": [
    {
     "data": {
      "text/html": [
       "<div>\n",
       "<style scoped>\n",
       "    .dataframe tbody tr th:only-of-type {\n",
       "        vertical-align: middle;\n",
       "    }\n",
       "\n",
       "    .dataframe tbody tr th {\n",
       "        vertical-align: top;\n",
       "    }\n",
       "\n",
       "    .dataframe thead th {\n",
       "        text-align: right;\n",
       "    }\n",
       "</style>\n",
       "<table border=\"1\" class=\"dataframe\">\n",
       "  <thead>\n",
       "    <tr style=\"text-align: right;\">\n",
       "      <th></th>\n",
       "      <th>Periodo</th>\n",
       "      <th>Processo</th>\n",
       "      <th>Ano do Processo</th>\n",
       "      <th>CPF/CNPJ</th>\n",
       "      <th>Pessoa Física/Jurídica</th>\n",
       "      <th>Fase do Processo</th>\n",
       "      <th>Substância</th>\n",
       "      <th>Uf</th>\n",
       "      <th>Município</th>\n",
       "      <th>Unidade de Medida</th>\n",
       "      <th>Quantidade Comercializada</th>\n",
       "      <th>Valor Recolhido (CFEM)</th>\n",
       "    </tr>\n",
       "  </thead>\n",
       "  <tbody>\n",
       "    <tr>\n",
       "      <th>0</th>\n",
       "      <td>2002</td>\n",
       "      <td>NaN</td>\n",
       "      <td>NaN</td>\n",
       "      <td>***.000.000-**</td>\n",
       "      <td>Não Informado</td>\n",
       "      <td>NaN</td>\n",
       "      <td>NaN</td>\n",
       "      <td>NaN</td>\n",
       "      <td>NaN</td>\n",
       "      <td>NaN</td>\n",
       "      <td>NaN</td>\n",
       "      <td>174</td>\n",
       "    </tr>\n",
       "    <tr>\n",
       "      <th>1</th>\n",
       "      <td>2002</td>\n",
       "      <td>910262.0</td>\n",
       "      <td>2007.0</td>\n",
       "      <td>88.503.388/0001-94</td>\n",
       "      <td>PEDRAS BASALTO TRES DE MAIO LTDA              ...</td>\n",
       "      <td>NaN</td>\n",
       "      <td>BASALTO</td>\n",
       "      <td>RS</td>\n",
       "      <td>TRÊS DE MAIO</td>\n",
       "      <td>m3</td>\n",
       "      <td>0</td>\n",
       "      <td>206,41</td>\n",
       "    </tr>\n",
       "    <tr>\n",
       "      <th>2</th>\n",
       "      <td>2003</td>\n",
       "      <td>NaN</td>\n",
       "      <td>NaN</td>\n",
       "      <td>NaN</td>\n",
       "      <td>NaN</td>\n",
       "      <td>NaN</td>\n",
       "      <td>FERRO</td>\n",
       "      <td>SC</td>\n",
       "      <td>ARAQUARI</td>\n",
       "      <td>NaN</td>\n",
       "      <td>NaN</td>\n",
       "      <td>11946,44</td>\n",
       "    </tr>\n",
       "    <tr>\n",
       "      <th>3</th>\n",
       "      <td>2003</td>\n",
       "      <td>NaN</td>\n",
       "      <td>NaN</td>\n",
       "      <td>NaN</td>\n",
       "      <td>NaN</td>\n",
       "      <td>NaN</td>\n",
       "      <td>FERRO</td>\n",
       "      <td>SP</td>\n",
       "      <td>SÃO JOÃO DA BOA VISTA</td>\n",
       "      <td>NaN</td>\n",
       "      <td>NaN</td>\n",
       "      <td>84,06</td>\n",
       "    </tr>\n",
       "    <tr>\n",
       "      <th>4</th>\n",
       "      <td>2003</td>\n",
       "      <td>NaN</td>\n",
       "      <td>NaN</td>\n",
       "      <td>***.000.000-**</td>\n",
       "      <td>Não Informado</td>\n",
       "      <td>NaN</td>\n",
       "      <td>NaN</td>\n",
       "      <td>NaN</td>\n",
       "      <td>NaN</td>\n",
       "      <td>NaN</td>\n",
       "      <td>NaN</td>\n",
       "      <td>54694836,3</td>\n",
       "    </tr>\n",
       "    <tr>\n",
       "      <th>...</th>\n",
       "      <td>...</td>\n",
       "      <td>...</td>\n",
       "      <td>...</td>\n",
       "      <td>...</td>\n",
       "      <td>...</td>\n",
       "      <td>...</td>\n",
       "      <td>...</td>\n",
       "      <td>...</td>\n",
       "      <td>...</td>\n",
       "      <td>...</td>\n",
       "      <td>...</td>\n",
       "      <td>...</td>\n",
       "    </tr>\n",
       "    <tr>\n",
       "      <th>95</th>\n",
       "      <td>2003</td>\n",
       "      <td>NaN</td>\n",
       "      <td>NaN</td>\n",
       "      <td>***.898.471-**</td>\n",
       "      <td>JOÃO TEIXEIRA SOBRINHO                        ...</td>\n",
       "      <td>NaN</td>\n",
       "      <td>AREIA</td>\n",
       "      <td>GO</td>\n",
       "      <td>GOIANÉSIA</td>\n",
       "      <td>m3</td>\n",
       "      <td>416</td>\n",
       "      <td>80,97</td>\n",
       "    </tr>\n",
       "    <tr>\n",
       "      <th>96</th>\n",
       "      <td>2003</td>\n",
       "      <td>NaN</td>\n",
       "      <td>NaN</td>\n",
       "      <td>***.907.421-**</td>\n",
       "      <td>ESTELITA CARNEIRO DA SILVA CASTRO</td>\n",
       "      <td>NaN</td>\n",
       "      <td>AREIA</td>\n",
       "      <td>GO</td>\n",
       "      <td>ITAPURANGA</td>\n",
       "      <td>m3</td>\n",
       "      <td>3521</td>\n",
       "      <td>565,37</td>\n",
       "    </tr>\n",
       "    <tr>\n",
       "      <th>97</th>\n",
       "      <td>2003</td>\n",
       "      <td>NaN</td>\n",
       "      <td>NaN</td>\n",
       "      <td>***.908.916-**</td>\n",
       "      <td>Enilson Sergio da Silva</td>\n",
       "      <td>NaN</td>\n",
       "      <td>AREIA LAVADA</td>\n",
       "      <td>MG</td>\n",
       "      <td>CANA VERDE</td>\n",
       "      <td>m3</td>\n",
       "      <td>618</td>\n",
       "      <td>20,21</td>\n",
       "    </tr>\n",
       "    <tr>\n",
       "      <th>98</th>\n",
       "      <td>2003</td>\n",
       "      <td>NaN</td>\n",
       "      <td>NaN</td>\n",
       "      <td>***.910.933-**</td>\n",
       "      <td>AROLDO JUCA DE QUEIROZ                        ...</td>\n",
       "      <td>NaN</td>\n",
       "      <td>GRANITO ORNAMENTAL</td>\n",
       "      <td>CE</td>\n",
       "      <td>SANTA QUITÉRIA</td>\n",
       "      <td>m3</td>\n",
       "      <td>74</td>\n",
       "      <td>104,33</td>\n",
       "    </tr>\n",
       "    <tr>\n",
       "      <th>99</th>\n",
       "      <td>2003</td>\n",
       "      <td>NaN</td>\n",
       "      <td>NaN</td>\n",
       "      <td>***.922.809-**</td>\n",
       "      <td>ELSON ÁVILA</td>\n",
       "      <td>NaN</td>\n",
       "      <td>SAIBRO</td>\n",
       "      <td>SC</td>\n",
       "      <td>PALHOÇA</td>\n",
       "      <td>m3</td>\n",
       "      <td>6200</td>\n",
       "      <td>484,77</td>\n",
       "    </tr>\n",
       "  </tbody>\n",
       "</table>\n",
       "<p>100 rows × 12 columns</p>\n",
       "</div>"
      ],
      "text/plain": [
       "    Periodo  Processo  Ano do Processo            CPF/CNPJ  \\\n",
       "0      2002       NaN              NaN      ***.000.000-**   \n",
       "1      2002  910262.0           2007.0  88.503.388/0001-94   \n",
       "2      2003       NaN              NaN                 NaN   \n",
       "3      2003       NaN              NaN                 NaN   \n",
       "4      2003       NaN              NaN      ***.000.000-**   \n",
       "..      ...       ...              ...                 ...   \n",
       "95     2003       NaN              NaN      ***.898.471-**   \n",
       "96     2003       NaN              NaN      ***.907.421-**   \n",
       "97     2003       NaN              NaN      ***.908.916-**   \n",
       "98     2003       NaN              NaN      ***.910.933-**   \n",
       "99     2003       NaN              NaN      ***.922.809-**   \n",
       "\n",
       "                               Pessoa Física/Jurídica Fase do Processo  \\\n",
       "0                                       Não Informado              NaN   \n",
       "1   PEDRAS BASALTO TRES DE MAIO LTDA              ...              NaN   \n",
       "2                                                 NaN              NaN   \n",
       "3                                                 NaN              NaN   \n",
       "4                                       Não Informado              NaN   \n",
       "..                                                ...              ...   \n",
       "95  JOÃO TEIXEIRA SOBRINHO                        ...              NaN   \n",
       "96                  ESTELITA CARNEIRO DA SILVA CASTRO              NaN   \n",
       "97                            Enilson Sergio da Silva              NaN   \n",
       "98  AROLDO JUCA DE QUEIROZ                        ...              NaN   \n",
       "99                                        ELSON ÁVILA              NaN   \n",
       "\n",
       "            Substância   Uf              Município Unidade de Medida  \\\n",
       "0                  NaN  NaN                    NaN               NaN   \n",
       "1              BASALTO   RS           TRÊS DE MAIO               m3    \n",
       "2                FERRO   SC               ARAQUARI               NaN   \n",
       "3                FERRO   SP  SÃO JOÃO DA BOA VISTA               NaN   \n",
       "4                  NaN  NaN                    NaN               NaN   \n",
       "..                 ...  ...                    ...               ...   \n",
       "95               AREIA   GO              GOIANÉSIA               m3    \n",
       "96               AREIA   GO             ITAPURANGA               m3    \n",
       "97        AREIA LAVADA   MG             CANA VERDE               m3    \n",
       "98  GRANITO ORNAMENTAL   CE         SANTA QUITÉRIA               m3    \n",
       "99              SAIBRO   SC                PALHOÇA               m3    \n",
       "\n",
       "   Quantidade Comercializada Valor Recolhido (CFEM)  \n",
       "0                        NaN                    174  \n",
       "1                          0                 206,41  \n",
       "2                        NaN               11946,44  \n",
       "3                        NaN                  84,06  \n",
       "4                        NaN             54694836,3  \n",
       "..                       ...                    ...  \n",
       "95                       416                  80,97  \n",
       "96                      3521                 565,37  \n",
       "97                       618                  20,21  \n",
       "98                        74                 104,33  \n",
       "99                      6200                 484,77  \n",
       "\n",
       "[100 rows x 12 columns]"
      ]
     },
     "execution_count": 3,
     "metadata": {},
     "output_type": "execute_result"
    }
   ],
   "source": [
    "dataset.head(100)"
   ]
  },
  {
   "cell_type": "code",
   "execution_count": 4,
   "metadata": {},
   "outputs": [
    {
     "data": {
      "text/plain": [
       "(202405, 12)"
      ]
     },
     "execution_count": 4,
     "metadata": {},
     "output_type": "execute_result"
    }
   ],
   "source": [
    "dataset.shape"
   ]
  },
  {
   "cell_type": "code",
   "execution_count": 5,
   "metadata": {},
   "outputs": [
    {
     "data": {
      "text/plain": [
       "Periodo                          0\n",
       "Processo                     17157\n",
       "Ano do Processo              17157\n",
       "CPF/CNPJ                        45\n",
       "Pessoa Física/Jurídica          31\n",
       "Fase do Processo             31316\n",
       "Substância                      32\n",
       "Uf                            1268\n",
       "Município                     1268\n",
       "Unidade de Medida              184\n",
       "Quantidade Comercializada     1574\n",
       "Valor Recolhido (CFEM)           0\n",
       "dtype: int64"
      ]
     },
     "execution_count": 5,
     "metadata": {},
     "output_type": "execute_result"
    }
   ],
   "source": [
    "dataset.isnull().sum()"
   ]
  },
  {
   "cell_type": "code",
   "execution_count": 6,
   "metadata": {},
   "outputs": [],
   "source": [
    "#Retirando espaços em branco do início e fim das variáveis\n",
    "dataset = dataset.applymap(lambda x: x.strip() if isinstance(x, str) else x)"
   ]
  },
  {
   "cell_type": "code",
   "execution_count": 7,
   "metadata": {},
   "outputs": [],
   "source": [
    "#Utilizando apenas as linhas que tem os dados que vou precisar para a análise\n",
    "dataset.dropna(subset=[\"Fase do Processo\"], inplace=True)\n",
    "dataset.dropna(subset=[\"Substância\"], inplace=True)\n",
    "dataset.dropna(subset=[\"Uf\"], inplace=True)\n",
    "dataset.dropna(subset=[\"Município\"], inplace=True)"
   ]
  },
  {
   "cell_type": "code",
   "execution_count": 8,
   "metadata": {},
   "outputs": [],
   "source": [
    "#Passo a coluna Fase do Processo para um inteiro, índice,  da sua categoria\n",
    "valores_unicos = dataset['Fase do Processo'].unique()\n",
    "total_valores = len(valores_unicos)\n",
    "mapeamento = dict(zip(valores_unicos, range(total_valores)))\n",
    "dataset['Fase do Processo_cat'] = dataset['Fase do Processo'].replace(mapeamento)\n",
    "dataset[\"Fase do Processo_cat\"] = pd.Categorical(dataset[\"Fase do Processo_cat\"])\n",
    "dataset.dropna(subset=[\"Fase do Processo_cat\"], inplace=True)"
   ]
  },
  {
   "cell_type": "code",
   "execution_count": 9,
   "metadata": {},
   "outputs": [],
   "source": [
    "#Passo a coluna Substância para um inteiro, índice,  da sua categoria\n",
    "valores_unicos = dataset['Substância'].unique()\n",
    "total_valores = len(valores_unicos)\n",
    "mapeamento = dict(zip(valores_unicos, range(total_valores)))\n",
    "dataset['Substância_cat'] = dataset['Substância'].replace(mapeamento)\n",
    "dataset[\"Substância_cat\"] = pd.Categorical(dataset[\"Substância_cat\"])\n",
    "dataset.dropna(subset=[\"Substância_cat\"], inplace=True)"
   ]
  },
  {
   "cell_type": "code",
   "execution_count": 10,
   "metadata": {},
   "outputs": [],
   "source": [
    "#Passo a coluna Uf para um inteiro, índice,  da sua categoria\n",
    "valores_unicos = dataset['Uf'].unique()\n",
    "total_valores = len(valores_unicos)\n",
    "mapeamento = dict(zip(valores_unicos, range(total_valores)))\n",
    "dataset['Uf_cat'] = dataset['Uf'].replace(mapeamento)\n",
    "dataset[\"Uf_cat\"] = pd.Categorical(dataset[\"Uf_cat\"])\n",
    "dataset.dropna(subset=[\"Uf_cat\"], inplace=True)"
   ]
  },
  {
   "cell_type": "code",
   "execution_count": 11,
   "metadata": {},
   "outputs": [],
   "source": [
    "#Passo a coluna Municipio para um inteiro, índice,  da sua categoria\n",
    "valores_unicos = dataset['Município'].unique()\n",
    "total_valores = len(valores_unicos)\n",
    "mapeamento = dict(zip(valores_unicos, range(total_valores)))\n",
    "dataset['Município_cat'] = dataset['Município'].replace(mapeamento)\n",
    "dataset[\"Município_cat\"] = pd.Categorical(dataset[\"Município_cat\"])\n",
    "dataset.dropna(subset=[\"Município_cat\"], inplace=True)"
   ]
  },
  {
   "cell_type": "code",
   "execution_count": 12,
   "metadata": {},
   "outputs": [],
   "source": [
    "#Utilizando apenas as linhas que tem os dados que vou precisar para a análise\n",
    "\n",
    "dataset[\"CPF/CNPJ\"].fillna('***.000.000-**', inplace=True)\n",
    "dataset.dropna(subset=[\"Pessoa Física/Jurídica\"], inplace=True)"
   ]
  },
  {
   "cell_type": "code",
   "execution_count": 13,
   "metadata": {},
   "outputs": [],
   "source": [
    "dataset['Valor Recolhido (CFEM)'] = dataset[\"Valor Recolhido (CFEM)\"].str.replace(',','.')\n",
    "dataset['Valor Recolhido (CFEM)'] = dataset['Valor Recolhido (CFEM)'].apply(pd.to_numeric)\n",
    "dataset[\"Valor Recolhido (CFEM)\"] = pd.to_numeric(dataset[\"Valor Recolhido (CFEM)\"])"
   ]
  },
  {
   "cell_type": "code",
   "execution_count": 14,
   "metadata": {},
   "outputs": [],
   "source": [
    "dataset.dropna(subset=[\"Valor Recolhido (CFEM)\"], inplace=True)"
   ]
  },
  {
   "cell_type": "code",
   "execution_count": 15,
   "metadata": {},
   "outputs": [
    {
     "data": {
      "text/html": [
       "<div>\n",
       "<style scoped>\n",
       "    .dataframe tbody tr th:only-of-type {\n",
       "        vertical-align: middle;\n",
       "    }\n",
       "\n",
       "    .dataframe tbody tr th {\n",
       "        vertical-align: top;\n",
       "    }\n",
       "\n",
       "    .dataframe thead th {\n",
       "        text-align: right;\n",
       "    }\n",
       "</style>\n",
       "<table border=\"1\" class=\"dataframe\">\n",
       "  <thead>\n",
       "    <tr style=\"text-align: right;\">\n",
       "      <th></th>\n",
       "      <th>Periodo</th>\n",
       "      <th>Processo</th>\n",
       "      <th>Ano do Processo</th>\n",
       "      <th>CPF/CNPJ</th>\n",
       "      <th>Pessoa Física/Jurídica</th>\n",
       "      <th>Fase do Processo</th>\n",
       "      <th>Substância</th>\n",
       "      <th>Uf</th>\n",
       "      <th>Município</th>\n",
       "      <th>Unidade de Medida</th>\n",
       "      <th>Quantidade Comercializada</th>\n",
       "      <th>Valor Recolhido (CFEM)</th>\n",
       "      <th>Fase do Processo_cat</th>\n",
       "      <th>Substância_cat</th>\n",
       "      <th>Uf_cat</th>\n",
       "      <th>Município_cat</th>\n",
       "    </tr>\n",
       "  </thead>\n",
       "  <tbody>\n",
       "    <tr>\n",
       "      <th>3470</th>\n",
       "      <td>2003</td>\n",
       "      <td>81.0</td>\n",
       "      <td>1948.0</td>\n",
       "      <td>29.627.007/0001-10</td>\n",
       "      <td>Estância Hidromineral Soledade LTDA ME</td>\n",
       "      <td>Concessão de Lavra</td>\n",
       "      <td>ÁGUA MINERAL</td>\n",
       "      <td>RJ</td>\n",
       "      <td>ITAPERUNA</td>\n",
       "      <td>l</td>\n",
       "      <td>1134240</td>\n",
       "      <td>728.25</td>\n",
       "      <td>0</td>\n",
       "      <td>0</td>\n",
       "      <td>0</td>\n",
       "      <td>0</td>\n",
       "    </tr>\n",
       "    <tr>\n",
       "      <th>3471</th>\n",
       "      <td>2003</td>\n",
       "      <td>135.0</td>\n",
       "      <td>1951.0</td>\n",
       "      <td>19.791.581/0001-55</td>\n",
       "      <td>COMPANHIA DE DESENVOLVIMENTO ECONOMICO DE MINAS G</td>\n",
       "      <td>Concessão de Lavra</td>\n",
       "      <td>ÁGUA MINERAL</td>\n",
       "      <td>MG</td>\n",
       "      <td>CAMBUQUIRA</td>\n",
       "      <td>l</td>\n",
       "      <td>686929</td>\n",
       "      <td>203.76</td>\n",
       "      <td>0</td>\n",
       "      <td>0</td>\n",
       "      <td>1</td>\n",
       "      <td>1</td>\n",
       "    </tr>\n",
       "    <tr>\n",
       "      <th>3472</th>\n",
       "      <td>2003</td>\n",
       "      <td>370.0</td>\n",
       "      <td>1956.0</td>\n",
       "      <td>60.580.396/0001-15</td>\n",
       "      <td>Companhia Geral de Minas</td>\n",
       "      <td>Concessão de Lavra</td>\n",
       "      <td>BAUXITA</td>\n",
       "      <td>MG</td>\n",
       "      <td>POÇOS DE CALDAS</td>\n",
       "      <td>t</td>\n",
       "      <td>852</td>\n",
       "      <td>61.66</td>\n",
       "      <td>0</td>\n",
       "      <td>1</td>\n",
       "      <td>1</td>\n",
       "      <td>2</td>\n",
       "    </tr>\n",
       "    <tr>\n",
       "      <th>3473</th>\n",
       "      <td>2003</td>\n",
       "      <td>397.0</td>\n",
       "      <td>1942.0</td>\n",
       "      <td>23.064.231/0001-64</td>\n",
       "      <td>Bemil Beneficiamento de Minérios Ltda</td>\n",
       "      <td>Concessão de Lavra</td>\n",
       "      <td>CALCÁRIO</td>\n",
       "      <td>MG</td>\n",
       "      <td>OURO PRETO</td>\n",
       "      <td>t</td>\n",
       "      <td>10899</td>\n",
       "      <td>2425.82</td>\n",
       "      <td>0</td>\n",
       "      <td>2</td>\n",
       "      <td>1</td>\n",
       "      <td>3</td>\n",
       "    </tr>\n",
       "    <tr>\n",
       "      <th>3474</th>\n",
       "      <td>2003</td>\n",
       "      <td>397.0</td>\n",
       "      <td>1942.0</td>\n",
       "      <td>23.064.231/0001-64</td>\n",
       "      <td>Bemil Beneficiamento de Minérios Ltda</td>\n",
       "      <td>Concessão de Lavra</td>\n",
       "      <td>DOLOMITO</td>\n",
       "      <td>MG</td>\n",
       "      <td>OURO PRETO</td>\n",
       "      <td>t</td>\n",
       "      <td>44370</td>\n",
       "      <td>12351.68</td>\n",
       "      <td>0</td>\n",
       "      <td>3</td>\n",
       "      <td>1</td>\n",
       "      <td>3</td>\n",
       "    </tr>\n",
       "  </tbody>\n",
       "</table>\n",
       "</div>"
      ],
      "text/plain": [
       "      Periodo  Processo  Ano do Processo            CPF/CNPJ  \\\n",
       "3470     2003      81.0           1948.0  29.627.007/0001-10   \n",
       "3471     2003     135.0           1951.0  19.791.581/0001-55   \n",
       "3472     2003     370.0           1956.0  60.580.396/0001-15   \n",
       "3473     2003     397.0           1942.0  23.064.231/0001-64   \n",
       "3474     2003     397.0           1942.0  23.064.231/0001-64   \n",
       "\n",
       "                                 Pessoa Física/Jurídica    Fase do Processo  \\\n",
       "3470             Estância Hidromineral Soledade LTDA ME  Concessão de Lavra   \n",
       "3471  COMPANHIA DE DESENVOLVIMENTO ECONOMICO DE MINAS G  Concessão de Lavra   \n",
       "3472                           Companhia Geral de Minas  Concessão de Lavra   \n",
       "3473              Bemil Beneficiamento de Minérios Ltda  Concessão de Lavra   \n",
       "3474              Bemil Beneficiamento de Minérios Ltda  Concessão de Lavra   \n",
       "\n",
       "        Substância  Uf        Município Unidade de Medida  \\\n",
       "3470  ÁGUA MINERAL  RJ        ITAPERUNA                 l   \n",
       "3471  ÁGUA MINERAL  MG       CAMBUQUIRA                 l   \n",
       "3472       BAUXITA  MG  POÇOS DE CALDAS                 t   \n",
       "3473      CALCÁRIO  MG       OURO PRETO                 t   \n",
       "3474      DOLOMITO  MG       OURO PRETO                 t   \n",
       "\n",
       "     Quantidade Comercializada  Valor Recolhido (CFEM) Fase do Processo_cat  \\\n",
       "3470                   1134240                  728.25                    0   \n",
       "3471                    686929                  203.76                    0   \n",
       "3472                       852                   61.66                    0   \n",
       "3473                     10899                 2425.82                    0   \n",
       "3474                     44370                12351.68                    0   \n",
       "\n",
       "     Substância_cat Uf_cat Município_cat  \n",
       "3470              0      0             0  \n",
       "3471              0      1             1  \n",
       "3472              1      1             2  \n",
       "3473              2      1             3  \n",
       "3474              3      1             3  "
      ]
     },
     "execution_count": 15,
     "metadata": {},
     "output_type": "execute_result"
    }
   ],
   "source": [
    "dataset.head()"
   ]
  },
  {
   "cell_type": "code",
   "execution_count": 16,
   "metadata": {},
   "outputs": [
    {
     "name": "stdout",
     "output_type": "stream",
     "text": [
      "<class 'pandas.core.frame.DataFrame'>\n",
      "Int64Index: 169858 entries, 3470 to 202339\n",
      "Data columns (total 16 columns):\n",
      " #   Column                     Non-Null Count   Dtype   \n",
      "---  ------                     --------------   -----   \n",
      " 0   Periodo                    169858 non-null  int64   \n",
      " 1   Processo                   169858 non-null  float64 \n",
      " 2   Ano do Processo            169858 non-null  float64 \n",
      " 3   CPF/CNPJ                   169858 non-null  object  \n",
      " 4   Pessoa Física/Jurídica     169858 non-null  object  \n",
      " 5   Fase do Processo           169858 non-null  object  \n",
      " 6   Substância                 169858 non-null  object  \n",
      " 7   Uf                         169858 non-null  object  \n",
      " 8   Município                  169858 non-null  object  \n",
      " 9   Unidade de Medida          169745 non-null  object  \n",
      " 10  Quantidade Comercializada  168919 non-null  object  \n",
      " 11  Valor Recolhido (CFEM)     169858 non-null  float64 \n",
      " 12  Fase do Processo_cat       169858 non-null  category\n",
      " 13  Substância_cat             169858 non-null  category\n",
      " 14  Uf_cat                     169858 non-null  category\n",
      " 15  Município_cat              169858 non-null  category\n",
      "dtypes: category(4), float64(3), int64(1), object(8)\n",
      "memory usage: 18.0+ MB\n"
     ]
    }
   ],
   "source": [
    "dataset.info()"
   ]
  },
  {
   "cell_type": "code",
   "execution_count": 17,
   "metadata": {},
   "outputs": [],
   "source": [
    "#Passo a Quantidade Comercializada para uma coluna numérica\n",
    "dataset['Quantidade Comercializada'] = pd.to_numeric(dataset['Quantidade Comercializada'], errors='coerce')"
   ]
  },
  {
   "cell_type": "code",
   "execution_count": 18,
   "metadata": {},
   "outputs": [],
   "source": [
    "#Substituindo os valores em branco de variáveis por nulo para poder excluir a coluna.\n",
    "dataset['Fase do Processo'].replace('', np.nan, inplace=True)\n",
    "dataset.dropna(subset=[\"Fase do Processo\"], inplace=True)"
   ]
  },
  {
   "cell_type": "code",
   "execution_count": 19,
   "metadata": {},
   "outputs": [],
   "source": [
    "#Colocando na coluna Quantidade Comercializada a média agrupada pela substância\n",
    "med = dataset.groupby('Substância')['Quantidade Comercializada'].transform('mean')"
   ]
  },
  {
   "cell_type": "code",
   "execution_count": 20,
   "metadata": {},
   "outputs": [],
   "source": [
    "dataset['Quantidade Comercializada'].fillna(med, inplace=True)\n",
    "dataset.dropna(subset=[\"Quantidade Comercializada\"], inplace=True)"
   ]
  },
  {
   "cell_type": "code",
   "execution_count": 22,
   "metadata": {},
   "outputs": [],
   "source": [
    "dataset = dataset.sample(frac=0.5)"
   ]
  },
  {
   "cell_type": "code",
   "execution_count": 23,
   "metadata": {},
   "outputs": [],
   "source": [
    "nomesColunas = [\"Fase do Processo_cat\", \"Substância_cat\", \"Uf_cat\", \"Município_cat\", \"Quantidade Comercializada\", \"Valor Recolhido (CFEM)\"]\n",
    "dataset_2 = dataset[nomesColunas]"
   ]
  },
  {
   "cell_type": "code",
   "execution_count": 24,
   "metadata": {},
   "outputs": [
    {
     "data": {
      "text/html": [
       "<div>\n",
       "<style scoped>\n",
       "    .dataframe tbody tr th:only-of-type {\n",
       "        vertical-align: middle;\n",
       "    }\n",
       "\n",
       "    .dataframe tbody tr th {\n",
       "        vertical-align: top;\n",
       "    }\n",
       "\n",
       "    .dataframe thead th {\n",
       "        text-align: right;\n",
       "    }\n",
       "</style>\n",
       "<table border=\"1\" class=\"dataframe\">\n",
       "  <thead>\n",
       "    <tr style=\"text-align: right;\">\n",
       "      <th></th>\n",
       "      <th>Fase do Processo_cat</th>\n",
       "      <th>Substância_cat</th>\n",
       "      <th>Uf_cat</th>\n",
       "      <th>Município_cat</th>\n",
       "      <th>Quantidade Comercializada</th>\n",
       "      <th>Valor Recolhido (CFEM)</th>\n",
       "    </tr>\n",
       "  </thead>\n",
       "  <tbody>\n",
       "    <tr>\n",
       "      <th>193322</th>\n",
       "      <td>2</td>\n",
       "      <td>42</td>\n",
       "      <td>14</td>\n",
       "      <td>1100</td>\n",
       "      <td>242962.992166</td>\n",
       "      <td>1514.40</td>\n",
       "    </tr>\n",
       "    <tr>\n",
       "      <th>127778</th>\n",
       "      <td>2</td>\n",
       "      <td>21</td>\n",
       "      <td>6</td>\n",
       "      <td>2096</td>\n",
       "      <td>18070.000000</td>\n",
       "      <td>1341.79</td>\n",
       "    </tr>\n",
       "    <tr>\n",
       "      <th>18411</th>\n",
       "      <td>2</td>\n",
       "      <td>59</td>\n",
       "      <td>8</td>\n",
       "      <td>388</td>\n",
       "      <td>1967.000000</td>\n",
       "      <td>247.76</td>\n",
       "    </tr>\n",
       "    <tr>\n",
       "      <th>80459</th>\n",
       "      <td>0</td>\n",
       "      <td>6</td>\n",
       "      <td>2</td>\n",
       "      <td>57</td>\n",
       "      <td>16813.314199</td>\n",
       "      <td>7415.83</td>\n",
       "    </tr>\n",
       "    <tr>\n",
       "      <th>25709</th>\n",
       "      <td>2</td>\n",
       "      <td>42</td>\n",
       "      <td>2</td>\n",
       "      <td>525</td>\n",
       "      <td>5345.000000</td>\n",
       "      <td>1358.26</td>\n",
       "    </tr>\n",
       "  </tbody>\n",
       "</table>\n",
       "</div>"
      ],
      "text/plain": [
       "       Fase do Processo_cat Substância_cat Uf_cat Município_cat  \\\n",
       "193322                    2             42     14          1100   \n",
       "127778                    2             21      6          2096   \n",
       "18411                     2             59      8           388   \n",
       "80459                     0              6      2            57   \n",
       "25709                     2             42      2           525   \n",
       "\n",
       "        Quantidade Comercializada  Valor Recolhido (CFEM)  \n",
       "193322              242962.992166                 1514.40  \n",
       "127778               18070.000000                 1341.79  \n",
       "18411                 1967.000000                  247.76  \n",
       "80459                16813.314199                 7415.83  \n",
       "25709                 5345.000000                 1358.26  "
      ]
     },
     "execution_count": 24,
     "metadata": {},
     "output_type": "execute_result"
    }
   ],
   "source": [
    "dataset_2.head()"
   ]
  },
  {
   "cell_type": "code",
   "execution_count": 25,
   "metadata": {},
   "outputs": [
    {
     "data": {
      "text/plain": [
       "(84816, 6)"
      ]
     },
     "execution_count": 25,
     "metadata": {},
     "output_type": "execute_result"
    }
   ],
   "source": [
    "# Obter os valores dos atributos\n",
    "dataset_atrib = dataset_2.values\n",
    "dataset_atrib.shape"
   ]
  },
  {
   "cell_type": "code",
   "execution_count": 26,
   "metadata": {},
   "outputs": [],
   "source": [
    "# Aplica redução de dimensionalidade\n",
    "pca = PCA(n_components = 2).fit_transform(dataset_atrib)"
   ]
  },
  {
   "cell_type": "code",
   "execution_count": 27,
   "metadata": {},
   "outputs": [],
   "source": [
    "# Determinando um range de K\n",
    "k_range = range(1,12)"
   ]
  },
  {
   "cell_type": "code",
   "execution_count": 28,
   "metadata": {},
   "outputs": [],
   "source": [
    "# Aplicando o modelo K-Means para cada valor de K \n",
    "k_means_var = [KMeans(n_clusters = k).fit(pca) for k in k_range]"
   ]
  },
  {
   "cell_type": "code",
   "execution_count": 29,
   "metadata": {},
   "outputs": [],
   "source": [
    "# Ajustando o centróide do cluster para cada modelo\n",
    "centroids = [X.cluster_centers_ for X in k_means_var]"
   ]
  },
  {
   "cell_type": "code",
   "execution_count": 30,
   "metadata": {},
   "outputs": [],
   "source": [
    "# Calculando a distância euclidiana de cada ponto de dado para o centróide\n",
    "k_euclid = [cdist(pca, cent, 'euclidean') for cent in centroids]\n",
    "dist = [np.min(ke, axis = 1) for ke in k_euclid]"
   ]
  },
  {
   "cell_type": "code",
   "execution_count": 31,
   "metadata": {},
   "outputs": [],
   "source": [
    "# Soma dos quadrados das distâncias dentro do cluster\n",
    "soma_quadrados_intra_cluster = [sum(d**2) for d in dist]"
   ]
  },
  {
   "cell_type": "code",
   "execution_count": null,
   "metadata": {},
   "outputs": [],
   "source": [
    "# Soma total dos quadrados\n",
    "soma_total = sum(pdist(pca)**2)/pca.shape[0]"
   ]
  },
  {
   "cell_type": "code",
   "execution_count": null,
   "metadata": {},
   "outputs": [],
   "source": [
    "# Soma dos quadrados entre clusters\n",
    "soma_quadrados_inter_cluster = soma_total - soma_quadrados_intra_cluster"
   ]
  },
  {
   "cell_type": "code",
   "execution_count": null,
   "metadata": {},
   "outputs": [],
   "source": [
    "# Curva de Elbow\n",
    "fig = plt.figure()\n",
    "ax = fig.add_subplot(111)\n",
    "ax.plot(k_range, soma_quadrados_inter_cluster/soma_total * 100, 'b*-')\n",
    "ax.set_ylim((0,100))\n",
    "plt.grid(True)\n",
    "plt.xlabel('Número de Clusters')\n",
    "plt.ylabel('Percentual de Variância Explicada')\n",
    "plt.title('Variância Explicada x Valor de K')"
   ]
  },
  {
   "cell_type": "code",
   "execution_count": null,
   "metadata": {},
   "outputs": [],
   "source": [
    "# Criando um modelo com K = 8\n",
    "modelo = KMeans(n_clusters = 8)\n",
    "modelo.fit(pca)"
   ]
  },
  {
   "cell_type": "code",
   "execution_count": null,
   "metadata": {},
   "outputs": [],
   "source": [
    "# Obtém os valores mínimos e máximos e organiza o shape\n",
    "x_min, x_max = pca[:, 0].min() - 5, pca[:, 0].max() - 1\n",
    "y_min, y_max = pca[:, 1].min() + 1, pca[:, 1].max() + 5\n",
    "xx, yy = np.meshgrid(np.arange(x_min, x_max, .02), np.arange(y_min, y_max, .02))\n",
    "Z = modelo_v1.predict(np.c_[xx.ravel(), yy.ravel()])\n",
    "Z = Z.reshape(xx.shape)"
   ]
  },
  {
   "cell_type": "code",
   "execution_count": null,
   "metadata": {},
   "outputs": [],
   "source": [
    "# Plot das áreas dos clusters\n",
    "plt.figure(1)\n",
    "plt.clf()\n",
    "plt.imshow(Z, \n",
    "           interpolation = 'nearest',\n",
    "           extent = (xx.min(), xx.max(), yy.min(), yy.max()),\n",
    "           cmap = plt.cm.Paired,\n",
    "           aspect = 'auto', \n",
    "           origin = 'lower')"
   ]
  },
  {
   "cell_type": "code",
   "execution_count": null,
   "metadata": {},
   "outputs": [],
   "source": [
    "# Plot dos centróides\n",
    "plt.plot(pca[:, 0], pca[:, 1], 'k.', markersize = 4)\n",
    "centroids = modelo_v1.cluster_centers_\n",
    "inert = modelo_v1.inertia_\n",
    "plt.scatter(centroids[:, 0], centroids[:, 1], marker = 'x', s = 169, linewidths = 3, color = 'r', zorder = 8)\n",
    "plt.xlim(x_min, x_max)\n",
    "plt.ylim(y_min, y_max)\n",
    "plt.xticks(())\n",
    "plt.yticks(())\n",
    "plt.show()"
   ]
  },
  {
   "cell_type": "code",
   "execution_count": null,
   "metadata": {},
   "outputs": [],
   "source": [
    "# Silhouette Score\n",
    "labels = modelo_v1.labels_\n",
    "silhouette_score(pca, labels, metric = 'euclidean')"
   ]
  },
  {
   "cell_type": "code",
   "execution_count": null,
   "metadata": {},
   "outputs": [],
   "source": [
    "# Cria o cluster map\n",
    "cluster_map = pd.DataFrame(amostra1, columns = names)\n",
    "cluster_map['Global_active_power'] = pd.to_numeric(cluster_map['Global_active_power'])\n",
    "cluster_map['cluster'] = modelo_v1.labels_"
   ]
  },
  {
   "cell_type": "code",
   "execution_count": null,
   "metadata": {},
   "outputs": [],
   "source": [
    "cluster_map"
   ]
  },
  {
   "cell_type": "code",
   "execution_count": null,
   "metadata": {},
   "outputs": [],
   "source": []
  }
 ],
 "metadata": {
  "kernelspec": {
   "display_name": "Python 3",
   "language": "python",
   "name": "python3"
  },
  "language_info": {
   "codemirror_mode": {
    "name": "ipython",
    "version": 3
   },
   "file_extension": ".py",
   "mimetype": "text/x-python",
   "name": "python",
   "nbconvert_exporter": "python",
   "pygments_lexer": "ipython3",
   "version": "3.7.6"
  }
 },
 "nbformat": 4,
 "nbformat_minor": 2
}
