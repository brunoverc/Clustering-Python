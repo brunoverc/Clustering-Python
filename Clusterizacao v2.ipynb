{
 "cells": [
  {
   "cell_type": "markdown",
   "metadata": {},
   "source": [
    "### Agrupar Mineradoras de acordo com os dados de Exploração Mineral\n",
    "\n",
    "#### Dataset: Compensação Financeira pela Exploração de Recursos Minerais (CFEM)\n",
    "#### Fonte: https://dados.gov.br/dataset/sistema-arrecadacao"
   ]
  },
  {
   "cell_type": "code",
   "execution_count": 6,
   "metadata": {},
   "outputs": [],
   "source": [
    "# Imports\n",
    "import pandas as pd\n",
    "import numpy as np\n",
    "import matplotlib.pyplot as plt\n",
    "from matplotlib import pylab\n",
    "from sklearn.cluster import KMeans\n",
    "from sklearn.decomposition import PCA\n",
    "from sklearn.model_selection import train_test_split\n",
    "from scipy.spatial.distance import cdist, pdist\n",
    "from sklearn.metrics import silhouette_score\n",
    "import warnings\n",
    "warnings.filterwarnings(\"ignore\")\n",
    "%matplotlib inline"
   ]
  },
  {
   "cell_type": "code",
   "execution_count": 7,
   "metadata": {},
   "outputs": [],
   "source": [
    "# Carregando os dados\n",
    "dataset = pd.read_csv('dados/exploracaoRecursosMinerais.csv', sep=',', encoding='latin-1')"
   ]
  },
  {
   "cell_type": "code",
   "execution_count": 8,
   "metadata": {},
   "outputs": [
    {
     "output_type": "execute_result",
     "data": {
      "text/plain": [
       "    Periodo  Processo  Ano do Processo            CPF/CNPJ  \\\n",
       "0      2002       NaN              NaN      ***.000.000-**   \n",
       "1      2002  910262.0           2007.0  88.503.388/0001-94   \n",
       "2      2003       NaN              NaN                 NaN   \n",
       "3      2003       NaN              NaN                 NaN   \n",
       "4      2003       NaN              NaN      ***.000.000-**   \n",
       "..      ...       ...              ...                 ...   \n",
       "95     2003       NaN              NaN      ***.898.471-**   \n",
       "96     2003       NaN              NaN      ***.907.421-**   \n",
       "97     2003       NaN              NaN      ***.908.916-**   \n",
       "98     2003       NaN              NaN      ***.910.933-**   \n",
       "99     2003       NaN              NaN      ***.922.809-**   \n",
       "\n",
       "                               Pessoa Física/Jurídica Fase do Processo  \\\n",
       "0                                       Não Informado              NaN   \n",
       "1   PEDRAS BASALTO TRES DE MAIO LTDA              ...              NaN   \n",
       "2                                                 NaN              NaN   \n",
       "3                                                 NaN              NaN   \n",
       "4                                       Não Informado              NaN   \n",
       "..                                                ...              ...   \n",
       "95  JOÃO TEIXEIRA SOBRINHO                        ...              NaN   \n",
       "96                  ESTELITA CARNEIRO DA SILVA CASTRO              NaN   \n",
       "97                            Enilson Sergio da Silva              NaN   \n",
       "98  AROLDO JUCA DE QUEIROZ                        ...              NaN   \n",
       "99                                        ELSON ÁVILA              NaN   \n",
       "\n",
       "            Substância   Uf              Município Unidade de Medida  \\\n",
       "0                  NaN  NaN                    NaN               NaN   \n",
       "1              BASALTO   RS           TRÊS DE MAIO               m3    \n",
       "2                FERRO   SC               ARAQUARI               NaN   \n",
       "3                FERRO   SP  SÃO JOÃO DA BOA VISTA               NaN   \n",
       "4                  NaN  NaN                    NaN               NaN   \n",
       "..                 ...  ...                    ...               ...   \n",
       "95               AREIA   GO              GOIANÉSIA               m3    \n",
       "96               AREIA   GO             ITAPURANGA               m3    \n",
       "97        AREIA LAVADA   MG             CANA VERDE               m3    \n",
       "98  GRANITO ORNAMENTAL   CE         SANTA QUITÉRIA               m3    \n",
       "99              SAIBRO   SC                PALHOÇA               m3    \n",
       "\n",
       "   Quantidade Comercializada Valor Recolhido (CFEM)  \n",
       "0                        NaN                    174  \n",
       "1                          0                 206,41  \n",
       "2                        NaN               11946,44  \n",
       "3                        NaN                  84,06  \n",
       "4                        NaN             54694836,3  \n",
       "..                       ...                    ...  \n",
       "95                       416                  80,97  \n",
       "96                      3521                 565,37  \n",
       "97                       618                  20,21  \n",
       "98                        74                 104,33  \n",
       "99                      6200                 484,77  \n",
       "\n",
       "[100 rows x 12 columns]"
      ],
      "text/html": "<div>\n<style scoped>\n    .dataframe tbody tr th:only-of-type {\n        vertical-align: middle;\n    }\n\n    .dataframe tbody tr th {\n        vertical-align: top;\n    }\n\n    .dataframe thead th {\n        text-align: right;\n    }\n</style>\n<table border=\"1\" class=\"dataframe\">\n  <thead>\n    <tr style=\"text-align: right;\">\n      <th></th>\n      <th>Periodo</th>\n      <th>Processo</th>\n      <th>Ano do Processo</th>\n      <th>CPF/CNPJ</th>\n      <th>Pessoa Física/Jurídica</th>\n      <th>Fase do Processo</th>\n      <th>Substância</th>\n      <th>Uf</th>\n      <th>Município</th>\n      <th>Unidade de Medida</th>\n      <th>Quantidade Comercializada</th>\n      <th>Valor Recolhido (CFEM)</th>\n    </tr>\n  </thead>\n  <tbody>\n    <tr>\n      <th>0</th>\n      <td>2002</td>\n      <td>NaN</td>\n      <td>NaN</td>\n      <td>***.000.000-**</td>\n      <td>Não Informado</td>\n      <td>NaN</td>\n      <td>NaN</td>\n      <td>NaN</td>\n      <td>NaN</td>\n      <td>NaN</td>\n      <td>NaN</td>\n      <td>174</td>\n    </tr>\n    <tr>\n      <th>1</th>\n      <td>2002</td>\n      <td>910262.0</td>\n      <td>2007.0</td>\n      <td>88.503.388/0001-94</td>\n      <td>PEDRAS BASALTO TRES DE MAIO LTDA              ...</td>\n      <td>NaN</td>\n      <td>BASALTO</td>\n      <td>RS</td>\n      <td>TRÊS DE MAIO</td>\n      <td>m3</td>\n      <td>0</td>\n      <td>206,41</td>\n    </tr>\n    <tr>\n      <th>2</th>\n      <td>2003</td>\n      <td>NaN</td>\n      <td>NaN</td>\n      <td>NaN</td>\n      <td>NaN</td>\n      <td>NaN</td>\n      <td>FERRO</td>\n      <td>SC</td>\n      <td>ARAQUARI</td>\n      <td>NaN</td>\n      <td>NaN</td>\n      <td>11946,44</td>\n    </tr>\n    <tr>\n      <th>3</th>\n      <td>2003</td>\n      <td>NaN</td>\n      <td>NaN</td>\n      <td>NaN</td>\n      <td>NaN</td>\n      <td>NaN</td>\n      <td>FERRO</td>\n      <td>SP</td>\n      <td>SÃO JOÃO DA BOA VISTA</td>\n      <td>NaN</td>\n      <td>NaN</td>\n      <td>84,06</td>\n    </tr>\n    <tr>\n      <th>4</th>\n      <td>2003</td>\n      <td>NaN</td>\n      <td>NaN</td>\n      <td>***.000.000-**</td>\n      <td>Não Informado</td>\n      <td>NaN</td>\n      <td>NaN</td>\n      <td>NaN</td>\n      <td>NaN</td>\n      <td>NaN</td>\n      <td>NaN</td>\n      <td>54694836,3</td>\n    </tr>\n    <tr>\n      <th>...</th>\n      <td>...</td>\n      <td>...</td>\n      <td>...</td>\n      <td>...</td>\n      <td>...</td>\n      <td>...</td>\n      <td>...</td>\n      <td>...</td>\n      <td>...</td>\n      <td>...</td>\n      <td>...</td>\n      <td>...</td>\n    </tr>\n    <tr>\n      <th>95</th>\n      <td>2003</td>\n      <td>NaN</td>\n      <td>NaN</td>\n      <td>***.898.471-**</td>\n      <td>JOÃO TEIXEIRA SOBRINHO                        ...</td>\n      <td>NaN</td>\n      <td>AREIA</td>\n      <td>GO</td>\n      <td>GOIANÉSIA</td>\n      <td>m3</td>\n      <td>416</td>\n      <td>80,97</td>\n    </tr>\n    <tr>\n      <th>96</th>\n      <td>2003</td>\n      <td>NaN</td>\n      <td>NaN</td>\n      <td>***.907.421-**</td>\n      <td>ESTELITA CARNEIRO DA SILVA CASTRO</td>\n      <td>NaN</td>\n      <td>AREIA</td>\n      <td>GO</td>\n      <td>ITAPURANGA</td>\n      <td>m3</td>\n      <td>3521</td>\n      <td>565,37</td>\n    </tr>\n    <tr>\n      <th>97</th>\n      <td>2003</td>\n      <td>NaN</td>\n      <td>NaN</td>\n      <td>***.908.916-**</td>\n      <td>Enilson Sergio da Silva</td>\n      <td>NaN</td>\n      <td>AREIA LAVADA</td>\n      <td>MG</td>\n      <td>CANA VERDE</td>\n      <td>m3</td>\n      <td>618</td>\n      <td>20,21</td>\n    </tr>\n    <tr>\n      <th>98</th>\n      <td>2003</td>\n      <td>NaN</td>\n      <td>NaN</td>\n      <td>***.910.933-**</td>\n      <td>AROLDO JUCA DE QUEIROZ                        ...</td>\n      <td>NaN</td>\n      <td>GRANITO ORNAMENTAL</td>\n      <td>CE</td>\n      <td>SANTA QUITÉRIA</td>\n      <td>m3</td>\n      <td>74</td>\n      <td>104,33</td>\n    </tr>\n    <tr>\n      <th>99</th>\n      <td>2003</td>\n      <td>NaN</td>\n      <td>NaN</td>\n      <td>***.922.809-**</td>\n      <td>ELSON ÁVILA</td>\n      <td>NaN</td>\n      <td>SAIBRO</td>\n      <td>SC</td>\n      <td>PALHOÇA</td>\n      <td>m3</td>\n      <td>6200</td>\n      <td>484,77</td>\n    </tr>\n  </tbody>\n</table>\n<p>100 rows × 12 columns</p>\n</div>"
     },
     "metadata": {},
     "execution_count": 8
    }
   ],
   "source": [
    "dataset.head(100)"
   ]
  },
  {
   "cell_type": "code",
   "execution_count": 9,
   "metadata": {},
   "outputs": [
    {
     "output_type": "execute_result",
     "data": {
      "text/plain": [
       "(202405, 12)"
      ]
     },
     "metadata": {},
     "execution_count": 9
    }
   ],
   "source": [
    "dataset.shape"
   ]
  },
  {
   "cell_type": "code",
   "execution_count": 10,
   "metadata": {},
   "outputs": [
    {
     "output_type": "execute_result",
     "data": {
      "text/plain": [
       "Periodo                          0\n",
       "Processo                     17157\n",
       "Ano do Processo              17157\n",
       "CPF/CNPJ                        45\n",
       "Pessoa Física/Jurídica          31\n",
       "Fase do Processo             31316\n",
       "Substância                      32\n",
       "Uf                            1268\n",
       "Município                     1268\n",
       "Unidade de Medida              184\n",
       "Quantidade Comercializada     1574\n",
       "Valor Recolhido (CFEM)           0\n",
       "dtype: int64"
      ]
     },
     "metadata": {},
     "execution_count": 10
    }
   ],
   "source": [
    "dataset.isnull().sum()"
   ]
  },
  {
   "cell_type": "code",
   "execution_count": 11,
   "metadata": {},
   "outputs": [],
   "source": [
    "#Retirando espaços em branco do início e fim das variáveis\n",
    "dataset = dataset.applymap(lambda x: x.strip() if isinstance(x, str) else x)"
   ]
  },
  {
   "cell_type": "code",
   "execution_count": 12,
   "metadata": {},
   "outputs": [],
   "source": [
    "#Utilizando apenas as linhas que tem os dados que vou precisar para a análise\n",
    "dataset.dropna(subset=[\"Fase do Processo\"], inplace=True)\n",
    "dataset.dropna(subset=[\"Substância\"], inplace=True)\n",
    "dataset.dropna(subset=[\"Uf\"], inplace=True)\n",
    "dataset.dropna(subset=[\"Município\"], inplace=True)"
   ]
  },
  {
   "cell_type": "code",
   "execution_count": 13,
   "metadata": {},
   "outputs": [],
   "source": [
    "#Passo a coluna Fase do Processo para um inteiro, índice,  da sua categoria\n",
    "valores_unicos = dataset['Fase do Processo'].unique()\n",
    "total_valores = len(valores_unicos)\n",
    "mapeamento = dict(zip(valores_unicos, range(total_valores)))\n",
    "dataset['Fase do Processo_cat'] = dataset['Fase do Processo'].replace(mapeamento)\n",
    "dataset[\"Fase do Processo_cat\"] = pd.Categorical(dataset[\"Fase do Processo_cat\"])\n",
    "dataset.dropna(subset=[\"Fase do Processo_cat\"], inplace=True)"
   ]
  },
  {
   "cell_type": "code",
   "execution_count": 14,
   "metadata": {},
   "outputs": [],
   "source": [
    "#Passo a coluna Substância para um inteiro, índice,  da sua categoria\n",
    "valores_unicos = dataset['Substância'].unique()\n",
    "total_valores = len(valores_unicos)\n",
    "mapeamento = dict(zip(valores_unicos, range(total_valores)))\n",
    "dataset['Substância_cat'] = dataset['Substância'].replace(mapeamento)\n",
    "dataset[\"Substância_cat\"] = pd.Categorical(dataset[\"Substância_cat\"])\n",
    "dataset.dropna(subset=[\"Substância_cat\"], inplace=True)"
   ]
  },
  {
   "cell_type": "code",
   "execution_count": 15,
   "metadata": {},
   "outputs": [],
   "source": [
    "#Passo a coluna Uf para um inteiro, índice,  da sua categoria\n",
    "valores_unicos = dataset['Uf'].unique()\n",
    "total_valores = len(valores_unicos)\n",
    "mapeamento = dict(zip(valores_unicos, range(total_valores)))\n",
    "dataset['Uf_cat'] = dataset['Uf'].replace(mapeamento)\n",
    "dataset[\"Uf_cat\"] = pd.Categorical(dataset[\"Uf_cat\"])\n",
    "dataset.dropna(subset=[\"Uf_cat\"], inplace=True)"
   ]
  },
  {
   "cell_type": "code",
   "execution_count": 16,
   "metadata": {},
   "outputs": [],
   "source": [
    "#Passo a coluna Municipio para um inteiro, índice,  da sua categoria\n",
    "valores_unicos = dataset['Município'].unique()\n",
    "total_valores = len(valores_unicos)\n",
    "mapeamento = dict(zip(valores_unicos, range(total_valores)))\n",
    "dataset['Município_cat'] = dataset['Município'].replace(mapeamento)\n",
    "dataset[\"Município_cat\"] = pd.Categorical(dataset[\"Município_cat\"])\n",
    "dataset.dropna(subset=[\"Município_cat\"], inplace=True)"
   ]
  },
  {
   "cell_type": "code",
   "execution_count": 17,
   "metadata": {},
   "outputs": [],
   "source": [
    "#Utilizando apenas as linhas que tem os dados que vou precisar para a análise\n",
    "\n",
    "dataset[\"CPF/CNPJ\"].fillna('***.000.000-**', inplace=True)\n",
    "dataset.dropna(subset=[\"Pessoa Física/Jurídica\"], inplace=True)"
   ]
  },
  {
   "cell_type": "code",
   "execution_count": 18,
   "metadata": {},
   "outputs": [],
   "source": [
    "dataset['Valor Recolhido (CFEM)'] = dataset[\"Valor Recolhido (CFEM)\"].str.replace(',','.')\n",
    "dataset['Valor Recolhido (CFEM)'] = dataset['Valor Recolhido (CFEM)'].apply(pd.to_numeric)\n",
    "dataset[\"Valor Recolhido (CFEM)\"] = pd.to_numeric(dataset[\"Valor Recolhido (CFEM)\"])"
   ]
  },
  {
   "cell_type": "code",
   "execution_count": 19,
   "metadata": {},
   "outputs": [],
   "source": [
    "dataset.dropna(subset=[\"Valor Recolhido (CFEM)\"], inplace=True)"
   ]
  },
  {
   "cell_type": "code",
   "execution_count": 20,
   "metadata": {},
   "outputs": [
    {
     "output_type": "execute_result",
     "data": {
      "text/plain": [
       "      Periodo  Processo  Ano do Processo            CPF/CNPJ  \\\n",
       "3470     2003      81.0           1948.0  29.627.007/0001-10   \n",
       "3471     2003     135.0           1951.0  19.791.581/0001-55   \n",
       "3472     2003     370.0           1956.0  60.580.396/0001-15   \n",
       "3473     2003     397.0           1942.0  23.064.231/0001-64   \n",
       "3474     2003     397.0           1942.0  23.064.231/0001-64   \n",
       "\n",
       "                                 Pessoa Física/Jurídica    Fase do Processo  \\\n",
       "3470             Estância Hidromineral Soledade LTDA ME  Concessão de Lavra   \n",
       "3471  COMPANHIA DE DESENVOLVIMENTO ECONOMICO DE MINAS G  Concessão de Lavra   \n",
       "3472                           Companhia Geral de Minas  Concessão de Lavra   \n",
       "3473              Bemil Beneficiamento de Minérios Ltda  Concessão de Lavra   \n",
       "3474              Bemil Beneficiamento de Minérios Ltda  Concessão de Lavra   \n",
       "\n",
       "        Substância  Uf        Município Unidade de Medida  \\\n",
       "3470  ÁGUA MINERAL  RJ        ITAPERUNA                 l   \n",
       "3471  ÁGUA MINERAL  MG       CAMBUQUIRA                 l   \n",
       "3472       BAUXITA  MG  POÇOS DE CALDAS                 t   \n",
       "3473      CALCÁRIO  MG       OURO PRETO                 t   \n",
       "3474      DOLOMITO  MG       OURO PRETO                 t   \n",
       "\n",
       "     Quantidade Comercializada  Valor Recolhido (CFEM) Fase do Processo_cat  \\\n",
       "3470                   1134240                  728.25                    0   \n",
       "3471                    686929                  203.76                    0   \n",
       "3472                       852                   61.66                    0   \n",
       "3473                     10899                 2425.82                    0   \n",
       "3474                     44370                12351.68                    0   \n",
       "\n",
       "     Substância_cat Uf_cat Município_cat  \n",
       "3470              0      0             0  \n",
       "3471              0      1             1  \n",
       "3472              1      1             2  \n",
       "3473              2      1             3  \n",
       "3474              3      1             3  "
      ],
      "text/html": "<div>\n<style scoped>\n    .dataframe tbody tr th:only-of-type {\n        vertical-align: middle;\n    }\n\n    .dataframe tbody tr th {\n        vertical-align: top;\n    }\n\n    .dataframe thead th {\n        text-align: right;\n    }\n</style>\n<table border=\"1\" class=\"dataframe\">\n  <thead>\n    <tr style=\"text-align: right;\">\n      <th></th>\n      <th>Periodo</th>\n      <th>Processo</th>\n      <th>Ano do Processo</th>\n      <th>CPF/CNPJ</th>\n      <th>Pessoa Física/Jurídica</th>\n      <th>Fase do Processo</th>\n      <th>Substância</th>\n      <th>Uf</th>\n      <th>Município</th>\n      <th>Unidade de Medida</th>\n      <th>Quantidade Comercializada</th>\n      <th>Valor Recolhido (CFEM)</th>\n      <th>Fase do Processo_cat</th>\n      <th>Substância_cat</th>\n      <th>Uf_cat</th>\n      <th>Município_cat</th>\n    </tr>\n  </thead>\n  <tbody>\n    <tr>\n      <th>3470</th>\n      <td>2003</td>\n      <td>81.0</td>\n      <td>1948.0</td>\n      <td>29.627.007/0001-10</td>\n      <td>Estância Hidromineral Soledade LTDA ME</td>\n      <td>Concessão de Lavra</td>\n      <td>ÁGUA MINERAL</td>\n      <td>RJ</td>\n      <td>ITAPERUNA</td>\n      <td>l</td>\n      <td>1134240</td>\n      <td>728.25</td>\n      <td>0</td>\n      <td>0</td>\n      <td>0</td>\n      <td>0</td>\n    </tr>\n    <tr>\n      <th>3471</th>\n      <td>2003</td>\n      <td>135.0</td>\n      <td>1951.0</td>\n      <td>19.791.581/0001-55</td>\n      <td>COMPANHIA DE DESENVOLVIMENTO ECONOMICO DE MINAS G</td>\n      <td>Concessão de Lavra</td>\n      <td>ÁGUA MINERAL</td>\n      <td>MG</td>\n      <td>CAMBUQUIRA</td>\n      <td>l</td>\n      <td>686929</td>\n      <td>203.76</td>\n      <td>0</td>\n      <td>0</td>\n      <td>1</td>\n      <td>1</td>\n    </tr>\n    <tr>\n      <th>3472</th>\n      <td>2003</td>\n      <td>370.0</td>\n      <td>1956.0</td>\n      <td>60.580.396/0001-15</td>\n      <td>Companhia Geral de Minas</td>\n      <td>Concessão de Lavra</td>\n      <td>BAUXITA</td>\n      <td>MG</td>\n      <td>POÇOS DE CALDAS</td>\n      <td>t</td>\n      <td>852</td>\n      <td>61.66</td>\n      <td>0</td>\n      <td>1</td>\n      <td>1</td>\n      <td>2</td>\n    </tr>\n    <tr>\n      <th>3473</th>\n      <td>2003</td>\n      <td>397.0</td>\n      <td>1942.0</td>\n      <td>23.064.231/0001-64</td>\n      <td>Bemil Beneficiamento de Minérios Ltda</td>\n      <td>Concessão de Lavra</td>\n      <td>CALCÁRIO</td>\n      <td>MG</td>\n      <td>OURO PRETO</td>\n      <td>t</td>\n      <td>10899</td>\n      <td>2425.82</td>\n      <td>0</td>\n      <td>2</td>\n      <td>1</td>\n      <td>3</td>\n    </tr>\n    <tr>\n      <th>3474</th>\n      <td>2003</td>\n      <td>397.0</td>\n      <td>1942.0</td>\n      <td>23.064.231/0001-64</td>\n      <td>Bemil Beneficiamento de Minérios Ltda</td>\n      <td>Concessão de Lavra</td>\n      <td>DOLOMITO</td>\n      <td>MG</td>\n      <td>OURO PRETO</td>\n      <td>t</td>\n      <td>44370</td>\n      <td>12351.68</td>\n      <td>0</td>\n      <td>3</td>\n      <td>1</td>\n      <td>3</td>\n    </tr>\n  </tbody>\n</table>\n</div>"
     },
     "metadata": {},
     "execution_count": 20
    }
   ],
   "source": [
    "dataset.head()"
   ]
  },
  {
   "cell_type": "code",
   "execution_count": 21,
   "metadata": {},
   "outputs": [
    {
     "output_type": "stream",
     "name": "stdout",
     "text": [
      "<class 'pandas.core.frame.DataFrame'>\nInt64Index: 169858 entries, 3470 to 202339\nData columns (total 16 columns):\n #   Column                     Non-Null Count   Dtype   \n---  ------                     --------------   -----   \n 0   Periodo                    169858 non-null  int64   \n 1   Processo                   169858 non-null  float64 \n 2   Ano do Processo            169858 non-null  float64 \n 3   CPF/CNPJ                   169858 non-null  object  \n 4   Pessoa Física/Jurídica     169858 non-null  object  \n 5   Fase do Processo           169858 non-null  object  \n 6   Substância                 169858 non-null  object  \n 7   Uf                         169858 non-null  object  \n 8   Município                  169858 non-null  object  \n 9   Unidade de Medida          169745 non-null  object  \n 10  Quantidade Comercializada  168919 non-null  object  \n 11  Valor Recolhido (CFEM)     169858 non-null  float64 \n 12  Fase do Processo_cat       169858 non-null  category\n 13  Substância_cat             169858 non-null  category\n 14  Uf_cat                     169858 non-null  category\n 15  Município_cat              169858 non-null  category\ndtypes: category(4), float64(3), int64(1), object(8)\nmemory usage: 18.0+ MB\n"
     ]
    }
   ],
   "source": [
    "dataset.info()"
   ]
  },
  {
   "cell_type": "code",
   "execution_count": 22,
   "metadata": {},
   "outputs": [],
   "source": [
    "#Passo a Quantidade Comercializada para uma coluna numérica\n",
    "dataset['Quantidade Comercializada'] = pd.to_numeric(dataset['Quantidade Comercializada'], errors='coerce')"
   ]
  },
  {
   "cell_type": "code",
   "execution_count": 23,
   "metadata": {},
   "outputs": [],
   "source": [
    "#Substituindo os valores em branco de variáveis por nulo para poder excluir a coluna.\n",
    "dataset['Fase do Processo'].replace('', np.nan, inplace=True)\n",
    "dataset.dropna(subset=[\"Fase do Processo\"], inplace=True)"
   ]
  },
  {
   "cell_type": "code",
   "execution_count": 24,
   "metadata": {},
   "outputs": [],
   "source": [
    "#Colocando na coluna Quantidade Comercializada a média agrupada pela substância\n",
    "med = dataset.groupby('Substância')['Quantidade Comercializada'].transform('mean')"
   ]
  },
  {
   "cell_type": "code",
   "execution_count": 25,
   "metadata": {},
   "outputs": [],
   "source": [
    "dataset['Quantidade Comercializada'].fillna(med, inplace=True)\n",
    "dataset.dropna(subset=[\"Quantidade Comercializada\"], inplace=True)"
   ]
  },
  {
   "cell_type": "code",
   "execution_count": 26,
   "metadata": {},
   "outputs": [],
   "source": [
    "dataset = dataset.sample(frac=0.5)"
   ]
  },
  {
   "cell_type": "code",
   "execution_count": 27,
   "metadata": {},
   "outputs": [],
   "source": [
    "nomesColunas = [\"Fase do Processo_cat\", \"Substância_cat\", \"Uf_cat\", \"Município_cat\", \"Quantidade Comercializada\", \"Valor Recolhido (CFEM)\"]\n",
    "dataset_2 = dataset[nomesColunas]"
   ]
  },
  {
   "cell_type": "code",
   "execution_count": 28,
   "metadata": {},
   "outputs": [
    {
     "output_type": "execute_result",
     "data": {
      "text/plain": [
       "       Fase do Processo_cat Substância_cat Uf_cat Município_cat  \\\n",
       "114858                    2             20      6           311   \n",
       "179815                    0             42      1           433   \n",
       "143496                    2             20      8          2309   \n",
       "109223                    0              0      0             0   \n",
       "79976                     2             42      8          1015   \n",
       "\n",
       "        Quantidade Comercializada  Valor Recolhido (CFEM)  \n",
       "114858               4.284600e+04                 2477.03  \n",
       "179815               4.470000e+02                   64.85  \n",
       "143496               8.094000e+03                  752.74  \n",
       "109223               1.514777e+06                 6220.35  \n",
       "79976                2.429630e+05                   58.30  "
      ],
      "text/html": "<div>\n<style scoped>\n    .dataframe tbody tr th:only-of-type {\n        vertical-align: middle;\n    }\n\n    .dataframe tbody tr th {\n        vertical-align: top;\n    }\n\n    .dataframe thead th {\n        text-align: right;\n    }\n</style>\n<table border=\"1\" class=\"dataframe\">\n  <thead>\n    <tr style=\"text-align: right;\">\n      <th></th>\n      <th>Fase do Processo_cat</th>\n      <th>Substância_cat</th>\n      <th>Uf_cat</th>\n      <th>Município_cat</th>\n      <th>Quantidade Comercializada</th>\n      <th>Valor Recolhido (CFEM)</th>\n    </tr>\n  </thead>\n  <tbody>\n    <tr>\n      <th>114858</th>\n      <td>2</td>\n      <td>20</td>\n      <td>6</td>\n      <td>311</td>\n      <td>4.284600e+04</td>\n      <td>2477.03</td>\n    </tr>\n    <tr>\n      <th>179815</th>\n      <td>0</td>\n      <td>42</td>\n      <td>1</td>\n      <td>433</td>\n      <td>4.470000e+02</td>\n      <td>64.85</td>\n    </tr>\n    <tr>\n      <th>143496</th>\n      <td>2</td>\n      <td>20</td>\n      <td>8</td>\n      <td>2309</td>\n      <td>8.094000e+03</td>\n      <td>752.74</td>\n    </tr>\n    <tr>\n      <th>109223</th>\n      <td>0</td>\n      <td>0</td>\n      <td>0</td>\n      <td>0</td>\n      <td>1.514777e+06</td>\n      <td>6220.35</td>\n    </tr>\n    <tr>\n      <th>79976</th>\n      <td>2</td>\n      <td>42</td>\n      <td>8</td>\n      <td>1015</td>\n      <td>2.429630e+05</td>\n      <td>58.30</td>\n    </tr>\n  </tbody>\n</table>\n</div>"
     },
     "metadata": {},
     "execution_count": 28
    }
   ],
   "source": [
    "dataset_2.head()"
   ]
  },
  {
   "cell_type": "code",
   "execution_count": 29,
   "metadata": {},
   "outputs": [
    {
     "output_type": "execute_result",
     "data": {
      "text/plain": [
       "(84816, 6)"
      ]
     },
     "metadata": {},
     "execution_count": 29
    }
   ],
   "source": [
    "# Obter os valores dos atributos\n",
    "dataset_atrib = dataset_2.values\n",
    "dataset_atrib.shape"
   ]
  },
  {
   "cell_type": "code",
   "execution_count": 30,
   "metadata": {},
   "outputs": [],
   "source": [
    "# Aplica redução de dimensionalidade\n",
    "pca = PCA(n_components = 2).fit_transform(dataset_atrib)"
   ]
  },
  {
   "cell_type": "code",
   "execution_count": 31,
   "metadata": {},
   "outputs": [],
   "source": [
    "# Determinando um range de K\n",
    "k_range = range(1,12)"
   ]
  },
  {
   "cell_type": "code",
   "execution_count": 32,
   "metadata": {},
   "outputs": [],
   "source": [
    "# Aplicando o modelo K-Means para cada valor de K \n",
    "k_means_var = [KMeans(n_clusters = k).fit(pca) for k in k_range]"
   ]
  },
  {
   "cell_type": "code",
   "execution_count": 33,
   "metadata": {},
   "outputs": [],
   "source": [
    "# Ajustando o centróide do cluster para cada modelo\n",
    "centroids = [X.cluster_centers_ for X in k_means_var]"
   ]
  },
  {
   "cell_type": "code",
   "execution_count": 34,
   "metadata": {},
   "outputs": [],
   "source": [
    "# Calculando a distância euclidiana de cada ponto de dado para o centróide\n",
    "k_euclid = [cdist(pca, cent, 'euclidean') for cent in centroids]\n",
    "dist = [np.min(ke, axis = 1) for ke in k_euclid]"
   ]
  },
  {
   "cell_type": "code",
   "execution_count": 35,
   "metadata": {},
   "outputs": [],
   "source": [
    "# Soma dos quadrados das distâncias dentro do cluster\n",
    "soma_quadrados_intra_cluster = [sum(d**2) for d in dist]"
   ]
  },
  {
   "cell_type": "code",
   "execution_count": 36,
   "metadata": {},
   "outputs": [],
   "source": [
    "# Soma total dos quadrados\n",
    "soma_total = sum(pdist(pca)**2)/pca.shape[0]"
   ]
  },
  {
   "cell_type": "code",
   "execution_count": 37,
   "metadata": {},
   "outputs": [],
   "source": [
    "# Soma dos quadrados entre clusters\n",
    "soma_quadrados_inter_cluster = soma_total - soma_quadrados_intra_cluster"
   ]
  },
  {
   "cell_type": "code",
   "execution_count": 38,
   "metadata": {},
   "outputs": [
    {
     "output_type": "execute_result",
     "data": {
      "text/plain": [
       "Text(0.5, 1.0, 'Variância Explicada x Valor de K')"
      ]
     },
     "metadata": {},
     "execution_count": 38
    },
    {
     "output_type": "display_data",
     "data": {
      "text/plain": "<Figure size 432x288 with 1 Axes>",
      "image/svg+xml": "<?xml version=\"1.0\" encoding=\"utf-8\" standalone=\"no\"?>\n<!DOCTYPE svg PUBLIC \"-//W3C//DTD SVG 1.1//EN\"\n  \"http://www.w3.org/Graphics/SVG/1.1/DTD/svg11.dtd\">\n<!-- Created with matplotlib (https://matplotlib.org/) -->\n<svg height=\"277.794375pt\" version=\"1.1\" viewBox=\"0 0 389.365625 277.794375\" width=\"389.365625pt\" xmlns=\"http://www.w3.org/2000/svg\" xmlns:xlink=\"http://www.w3.org/1999/xlink\">\n <defs>\n  <style type=\"text/css\">\n*{stroke-linecap:butt;stroke-linejoin:round;}\n  </style>\n </defs>\n <g id=\"figure_1\">\n  <g id=\"patch_1\">\n   <path d=\"M 0 277.794375 \nL 389.365625 277.794375 \nL 389.365625 0 \nL 0 0 \nz\n\" style=\"fill:none;\"/>\n  </g>\n  <g id=\"axes_1\">\n   <g id=\"patch_2\">\n    <path d=\"M 47.365625 240.238125 \nL 382.165625 240.238125 \nL 382.165625 22.798125 \nL 47.365625 22.798125 \nz\n\" style=\"fill:#ffffff;\"/>\n   </g>\n   <g id=\"matplotlib.axis_1\">\n    <g id=\"xtick_1\">\n     <g id=\"line2d_1\">\n      <path clip-path=\"url(#p7f1d0a6cc6)\" d=\"M 93.02017 240.238125 \nL 93.02017 22.798125 \n\" style=\"fill:none;stroke:#b0b0b0;stroke-linecap:square;stroke-width:0.8;\"/>\n     </g>\n     <g id=\"line2d_2\">\n      <defs>\n       <path d=\"M 0 0 \nL 0 3.5 \n\" id=\"m863b629e4c\" style=\"stroke:#000000;stroke-width:0.8;\"/>\n      </defs>\n      <g>\n       <use style=\"stroke:#000000;stroke-width:0.8;\" x=\"93.02017\" xlink:href=\"#m863b629e4c\" y=\"240.238125\"/>\n      </g>\n     </g>\n     <g id=\"text_1\">\n      <!-- 2 -->\n      <defs>\n       <path d=\"M 19.1875 8.296875 \nL 53.609375 8.296875 \nL 53.609375 0 \nL 7.328125 0 \nL 7.328125 8.296875 \nQ 12.9375 14.109375 22.625 23.890625 \nQ 32.328125 33.6875 34.8125 36.53125 \nQ 39.546875 41.84375 41.421875 45.53125 \nQ 43.3125 49.21875 43.3125 52.78125 \nQ 43.3125 58.59375 39.234375 62.25 \nQ 35.15625 65.921875 28.609375 65.921875 \nQ 23.96875 65.921875 18.8125 64.3125 \nQ 13.671875 62.703125 7.8125 59.421875 \nL 7.8125 69.390625 \nQ 13.765625 71.78125 18.9375 73 \nQ 24.125 74.21875 28.421875 74.21875 \nQ 39.75 74.21875 46.484375 68.546875 \nQ 53.21875 62.890625 53.21875 53.421875 \nQ 53.21875 48.921875 51.53125 44.890625 \nQ 49.859375 40.875 45.40625 35.40625 \nQ 44.1875 33.984375 37.640625 27.21875 \nQ 31.109375 20.453125 19.1875 8.296875 \nz\n\" id=\"DejaVuSans-50\"/>\n      </defs>\n      <g transform=\"translate(89.83892 254.836563)scale(0.1 -0.1)\">\n       <use xlink:href=\"#DejaVuSans-50\"/>\n      </g>\n     </g>\n    </g>\n    <g id=\"xtick_2\">\n     <g id=\"line2d_3\">\n      <path clip-path=\"url(#p7f1d0a6cc6)\" d=\"M 153.892898 240.238125 \nL 153.892898 22.798125 \n\" style=\"fill:none;stroke:#b0b0b0;stroke-linecap:square;stroke-width:0.8;\"/>\n     </g>\n     <g id=\"line2d_4\">\n      <g>\n       <use style=\"stroke:#000000;stroke-width:0.8;\" x=\"153.892898\" xlink:href=\"#m863b629e4c\" y=\"240.238125\"/>\n      </g>\n     </g>\n     <g id=\"text_2\">\n      <!-- 4 -->\n      <defs>\n       <path d=\"M 37.796875 64.3125 \nL 12.890625 25.390625 \nL 37.796875 25.390625 \nz\nM 35.203125 72.90625 \nL 47.609375 72.90625 \nL 47.609375 25.390625 \nL 58.015625 25.390625 \nL 58.015625 17.1875 \nL 47.609375 17.1875 \nL 47.609375 0 \nL 37.796875 0 \nL 37.796875 17.1875 \nL 4.890625 17.1875 \nL 4.890625 26.703125 \nz\n\" id=\"DejaVuSans-52\"/>\n      </defs>\n      <g transform=\"translate(150.711648 254.836563)scale(0.1 -0.1)\">\n       <use xlink:href=\"#DejaVuSans-52\"/>\n      </g>\n     </g>\n    </g>\n    <g id=\"xtick_3\">\n     <g id=\"line2d_5\">\n      <path clip-path=\"url(#p7f1d0a6cc6)\" d=\"M 214.765625 240.238125 \nL 214.765625 22.798125 \n\" style=\"fill:none;stroke:#b0b0b0;stroke-linecap:square;stroke-width:0.8;\"/>\n     </g>\n     <g id=\"line2d_6\">\n      <g>\n       <use style=\"stroke:#000000;stroke-width:0.8;\" x=\"214.765625\" xlink:href=\"#m863b629e4c\" y=\"240.238125\"/>\n      </g>\n     </g>\n     <g id=\"text_3\">\n      <!-- 6 -->\n      <defs>\n       <path d=\"M 33.015625 40.375 \nQ 26.375 40.375 22.484375 35.828125 \nQ 18.609375 31.296875 18.609375 23.390625 \nQ 18.609375 15.53125 22.484375 10.953125 \nQ 26.375 6.390625 33.015625 6.390625 \nQ 39.65625 6.390625 43.53125 10.953125 \nQ 47.40625 15.53125 47.40625 23.390625 \nQ 47.40625 31.296875 43.53125 35.828125 \nQ 39.65625 40.375 33.015625 40.375 \nz\nM 52.59375 71.296875 \nL 52.59375 62.3125 \nQ 48.875 64.0625 45.09375 64.984375 \nQ 41.3125 65.921875 37.59375 65.921875 \nQ 27.828125 65.921875 22.671875 59.328125 \nQ 17.53125 52.734375 16.796875 39.40625 \nQ 19.671875 43.65625 24.015625 45.921875 \nQ 28.375 48.1875 33.59375 48.1875 \nQ 44.578125 48.1875 50.953125 41.515625 \nQ 57.328125 34.859375 57.328125 23.390625 \nQ 57.328125 12.15625 50.6875 5.359375 \nQ 44.046875 -1.421875 33.015625 -1.421875 \nQ 20.359375 -1.421875 13.671875 8.265625 \nQ 6.984375 17.96875 6.984375 36.375 \nQ 6.984375 53.65625 15.1875 63.9375 \nQ 23.390625 74.21875 37.203125 74.21875 \nQ 40.921875 74.21875 44.703125 73.484375 \nQ 48.484375 72.75 52.59375 71.296875 \nz\n\" id=\"DejaVuSans-54\"/>\n      </defs>\n      <g transform=\"translate(211.584375 254.836563)scale(0.1 -0.1)\">\n       <use xlink:href=\"#DejaVuSans-54\"/>\n      </g>\n     </g>\n    </g>\n    <g id=\"xtick_4\">\n     <g id=\"line2d_7\">\n      <path clip-path=\"url(#p7f1d0a6cc6)\" d=\"M 275.638352 240.238125 \nL 275.638352 22.798125 \n\" style=\"fill:none;stroke:#b0b0b0;stroke-linecap:square;stroke-width:0.8;\"/>\n     </g>\n     <g id=\"line2d_8\">\n      <g>\n       <use style=\"stroke:#000000;stroke-width:0.8;\" x=\"275.638352\" xlink:href=\"#m863b629e4c\" y=\"240.238125\"/>\n      </g>\n     </g>\n     <g id=\"text_4\">\n      <!-- 8 -->\n      <defs>\n       <path d=\"M 31.78125 34.625 \nQ 24.75 34.625 20.71875 30.859375 \nQ 16.703125 27.09375 16.703125 20.515625 \nQ 16.703125 13.921875 20.71875 10.15625 \nQ 24.75 6.390625 31.78125 6.390625 \nQ 38.8125 6.390625 42.859375 10.171875 \nQ 46.921875 13.96875 46.921875 20.515625 \nQ 46.921875 27.09375 42.890625 30.859375 \nQ 38.875 34.625 31.78125 34.625 \nz\nM 21.921875 38.8125 \nQ 15.578125 40.375 12.03125 44.71875 \nQ 8.5 49.078125 8.5 55.328125 \nQ 8.5 64.0625 14.71875 69.140625 \nQ 20.953125 74.21875 31.78125 74.21875 \nQ 42.671875 74.21875 48.875 69.140625 \nQ 55.078125 64.0625 55.078125 55.328125 \nQ 55.078125 49.078125 51.53125 44.71875 \nQ 48 40.375 41.703125 38.8125 \nQ 48.828125 37.15625 52.796875 32.3125 \nQ 56.78125 27.484375 56.78125 20.515625 \nQ 56.78125 9.90625 50.3125 4.234375 \nQ 43.84375 -1.421875 31.78125 -1.421875 \nQ 19.734375 -1.421875 13.25 4.234375 \nQ 6.78125 9.90625 6.78125 20.515625 \nQ 6.78125 27.484375 10.78125 32.3125 \nQ 14.796875 37.15625 21.921875 38.8125 \nz\nM 18.3125 54.390625 \nQ 18.3125 48.734375 21.84375 45.5625 \nQ 25.390625 42.390625 31.78125 42.390625 \nQ 38.140625 42.390625 41.71875 45.5625 \nQ 45.3125 48.734375 45.3125 54.390625 \nQ 45.3125 60.0625 41.71875 63.234375 \nQ 38.140625 66.40625 31.78125 66.40625 \nQ 25.390625 66.40625 21.84375 63.234375 \nQ 18.3125 60.0625 18.3125 54.390625 \nz\n\" id=\"DejaVuSans-56\"/>\n      </defs>\n      <g transform=\"translate(272.457102 254.836563)scale(0.1 -0.1)\">\n       <use xlink:href=\"#DejaVuSans-56\"/>\n      </g>\n     </g>\n    </g>\n    <g id=\"xtick_5\">\n     <g id=\"line2d_9\">\n      <path clip-path=\"url(#p7f1d0a6cc6)\" d=\"M 336.51108 240.238125 \nL 336.51108 22.798125 \n\" style=\"fill:none;stroke:#b0b0b0;stroke-linecap:square;stroke-width:0.8;\"/>\n     </g>\n     <g id=\"line2d_10\">\n      <g>\n       <use style=\"stroke:#000000;stroke-width:0.8;\" x=\"336.51108\" xlink:href=\"#m863b629e4c\" y=\"240.238125\"/>\n      </g>\n     </g>\n     <g id=\"text_5\">\n      <!-- 10 -->\n      <defs>\n       <path d=\"M 12.40625 8.296875 \nL 28.515625 8.296875 \nL 28.515625 63.921875 \nL 10.984375 60.40625 \nL 10.984375 69.390625 \nL 28.421875 72.90625 \nL 38.28125 72.90625 \nL 38.28125 8.296875 \nL 54.390625 8.296875 \nL 54.390625 0 \nL 12.40625 0 \nz\n\" id=\"DejaVuSans-49\"/>\n       <path d=\"M 31.78125 66.40625 \nQ 24.171875 66.40625 20.328125 58.90625 \nQ 16.5 51.421875 16.5 36.375 \nQ 16.5 21.390625 20.328125 13.890625 \nQ 24.171875 6.390625 31.78125 6.390625 \nQ 39.453125 6.390625 43.28125 13.890625 \nQ 47.125 21.390625 47.125 36.375 \nQ 47.125 51.421875 43.28125 58.90625 \nQ 39.453125 66.40625 31.78125 66.40625 \nz\nM 31.78125 74.21875 \nQ 44.046875 74.21875 50.515625 64.515625 \nQ 56.984375 54.828125 56.984375 36.375 \nQ 56.984375 17.96875 50.515625 8.265625 \nQ 44.046875 -1.421875 31.78125 -1.421875 \nQ 19.53125 -1.421875 13.0625 8.265625 \nQ 6.59375 17.96875 6.59375 36.375 \nQ 6.59375 54.828125 13.0625 64.515625 \nQ 19.53125 74.21875 31.78125 74.21875 \nz\n\" id=\"DejaVuSans-48\"/>\n      </defs>\n      <g transform=\"translate(330.14858 254.836563)scale(0.1 -0.1)\">\n       <use xlink:href=\"#DejaVuSans-49\"/>\n       <use x=\"63.623047\" xlink:href=\"#DejaVuSans-48\"/>\n      </g>\n     </g>\n    </g>\n    <g id=\"text_6\">\n     <!-- Número de Clusters -->\n     <defs>\n      <path d=\"M 9.8125 72.90625 \nL 23.09375 72.90625 \nL 55.421875 11.921875 \nL 55.421875 72.90625 \nL 64.984375 72.90625 \nL 64.984375 0 \nL 51.703125 0 \nL 19.390625 60.984375 \nL 19.390625 0 \nL 9.8125 0 \nz\n\" id=\"DejaVuSans-78\"/>\n      <path d=\"M 8.5 21.578125 \nL 8.5 54.6875 \nL 17.484375 54.6875 \nL 17.484375 21.921875 \nQ 17.484375 14.15625 20.5 10.265625 \nQ 23.53125 6.390625 29.59375 6.390625 \nQ 36.859375 6.390625 41.078125 11.03125 \nQ 45.3125 15.671875 45.3125 23.6875 \nL 45.3125 54.6875 \nL 54.296875 54.6875 \nL 54.296875 0 \nL 45.3125 0 \nL 45.3125 8.40625 \nQ 42.046875 3.421875 37.71875 1 \nQ 33.40625 -1.421875 27.6875 -1.421875 \nQ 18.265625 -1.421875 13.375 4.4375 \nQ 8.5 10.296875 8.5 21.578125 \nz\nM 31.109375 56 \nz\nM 37.796875 79.984375 \nL 47.515625 79.984375 \nL 31.59375 61.625 \nL 24.125 61.625 \nz\n\" id=\"DejaVuSans-250\"/>\n      <path d=\"M 52 44.1875 \nQ 55.375 50.25 60.0625 53.125 \nQ 64.75 56 71.09375 56 \nQ 79.640625 56 84.28125 50.015625 \nQ 88.921875 44.046875 88.921875 33.015625 \nL 88.921875 0 \nL 79.890625 0 \nL 79.890625 32.71875 \nQ 79.890625 40.578125 77.09375 44.375 \nQ 74.3125 48.1875 68.609375 48.1875 \nQ 61.625 48.1875 57.5625 43.546875 \nQ 53.515625 38.921875 53.515625 30.90625 \nL 53.515625 0 \nL 44.484375 0 \nL 44.484375 32.71875 \nQ 44.484375 40.625 41.703125 44.40625 \nQ 38.921875 48.1875 33.109375 48.1875 \nQ 26.21875 48.1875 22.15625 43.53125 \nQ 18.109375 38.875 18.109375 30.90625 \nL 18.109375 0 \nL 9.078125 0 \nL 9.078125 54.6875 \nL 18.109375 54.6875 \nL 18.109375 46.1875 \nQ 21.1875 51.21875 25.484375 53.609375 \nQ 29.78125 56 35.6875 56 \nQ 41.65625 56 45.828125 52.96875 \nQ 50 49.953125 52 44.1875 \nz\n\" id=\"DejaVuSans-109\"/>\n      <path d=\"M 56.203125 29.59375 \nL 56.203125 25.203125 \nL 14.890625 25.203125 \nQ 15.484375 15.921875 20.484375 11.0625 \nQ 25.484375 6.203125 34.421875 6.203125 \nQ 39.59375 6.203125 44.453125 7.46875 \nQ 49.3125 8.734375 54.109375 11.28125 \nL 54.109375 2.78125 \nQ 49.265625 0.734375 44.1875 -0.34375 \nQ 39.109375 -1.421875 33.890625 -1.421875 \nQ 20.796875 -1.421875 13.15625 6.1875 \nQ 5.515625 13.8125 5.515625 26.8125 \nQ 5.515625 40.234375 12.765625 48.109375 \nQ 20.015625 56 32.328125 56 \nQ 43.359375 56 49.78125 48.890625 \nQ 56.203125 41.796875 56.203125 29.59375 \nz\nM 47.21875 32.234375 \nQ 47.125 39.59375 43.09375 43.984375 \nQ 39.0625 48.390625 32.421875 48.390625 \nQ 24.90625 48.390625 20.390625 44.140625 \nQ 15.875 39.890625 15.1875 32.171875 \nz\n\" id=\"DejaVuSans-101\"/>\n      <path d=\"M 41.109375 46.296875 \nQ 39.59375 47.171875 37.8125 47.578125 \nQ 36.03125 48 33.890625 48 \nQ 26.265625 48 22.1875 43.046875 \nQ 18.109375 38.09375 18.109375 28.8125 \nL 18.109375 0 \nL 9.078125 0 \nL 9.078125 54.6875 \nL 18.109375 54.6875 \nL 18.109375 46.1875 \nQ 20.953125 51.171875 25.484375 53.578125 \nQ 30.03125 56 36.53125 56 \nQ 37.453125 56 38.578125 55.875 \nQ 39.703125 55.765625 41.0625 55.515625 \nz\n\" id=\"DejaVuSans-114\"/>\n      <path d=\"M 30.609375 48.390625 \nQ 23.390625 48.390625 19.1875 42.75 \nQ 14.984375 37.109375 14.984375 27.296875 \nQ 14.984375 17.484375 19.15625 11.84375 \nQ 23.34375 6.203125 30.609375 6.203125 \nQ 37.796875 6.203125 41.984375 11.859375 \nQ 46.1875 17.53125 46.1875 27.296875 \nQ 46.1875 37.015625 41.984375 42.703125 \nQ 37.796875 48.390625 30.609375 48.390625 \nz\nM 30.609375 56 \nQ 42.328125 56 49.015625 48.375 \nQ 55.71875 40.765625 55.71875 27.296875 \nQ 55.71875 13.875 49.015625 6.21875 \nQ 42.328125 -1.421875 30.609375 -1.421875 \nQ 18.84375 -1.421875 12.171875 6.21875 \nQ 5.515625 13.875 5.515625 27.296875 \nQ 5.515625 40.765625 12.171875 48.375 \nQ 18.84375 56 30.609375 56 \nz\n\" id=\"DejaVuSans-111\"/>\n      <path id=\"DejaVuSans-32\"/>\n      <path d=\"M 45.40625 46.390625 \nL 45.40625 75.984375 \nL 54.390625 75.984375 \nL 54.390625 0 \nL 45.40625 0 \nL 45.40625 8.203125 \nQ 42.578125 3.328125 38.25 0.953125 \nQ 33.9375 -1.421875 27.875 -1.421875 \nQ 17.96875 -1.421875 11.734375 6.484375 \nQ 5.515625 14.40625 5.515625 27.296875 \nQ 5.515625 40.1875 11.734375 48.09375 \nQ 17.96875 56 27.875 56 \nQ 33.9375 56 38.25 53.625 \nQ 42.578125 51.265625 45.40625 46.390625 \nz\nM 14.796875 27.296875 \nQ 14.796875 17.390625 18.875 11.75 \nQ 22.953125 6.109375 30.078125 6.109375 \nQ 37.203125 6.109375 41.296875 11.75 \nQ 45.40625 17.390625 45.40625 27.296875 \nQ 45.40625 37.203125 41.296875 42.84375 \nQ 37.203125 48.484375 30.078125 48.484375 \nQ 22.953125 48.484375 18.875 42.84375 \nQ 14.796875 37.203125 14.796875 27.296875 \nz\n\" id=\"DejaVuSans-100\"/>\n      <path d=\"M 64.40625 67.28125 \nL 64.40625 56.890625 \nQ 59.421875 61.53125 53.78125 63.8125 \nQ 48.140625 66.109375 41.796875 66.109375 \nQ 29.296875 66.109375 22.65625 58.46875 \nQ 16.015625 50.828125 16.015625 36.375 \nQ 16.015625 21.96875 22.65625 14.328125 \nQ 29.296875 6.6875 41.796875 6.6875 \nQ 48.140625 6.6875 53.78125 8.984375 \nQ 59.421875 11.28125 64.40625 15.921875 \nL 64.40625 5.609375 \nQ 59.234375 2.09375 53.4375 0.328125 \nQ 47.65625 -1.421875 41.21875 -1.421875 \nQ 24.65625 -1.421875 15.125 8.703125 \nQ 5.609375 18.84375 5.609375 36.375 \nQ 5.609375 53.953125 15.125 64.078125 \nQ 24.65625 74.21875 41.21875 74.21875 \nQ 47.75 74.21875 53.53125 72.484375 \nQ 59.328125 70.75 64.40625 67.28125 \nz\n\" id=\"DejaVuSans-67\"/>\n      <path d=\"M 9.421875 75.984375 \nL 18.40625 75.984375 \nL 18.40625 0 \nL 9.421875 0 \nz\n\" id=\"DejaVuSans-108\"/>\n      <path d=\"M 8.5 21.578125 \nL 8.5 54.6875 \nL 17.484375 54.6875 \nL 17.484375 21.921875 \nQ 17.484375 14.15625 20.5 10.265625 \nQ 23.53125 6.390625 29.59375 6.390625 \nQ 36.859375 6.390625 41.078125 11.03125 \nQ 45.3125 15.671875 45.3125 23.6875 \nL 45.3125 54.6875 \nL 54.296875 54.6875 \nL 54.296875 0 \nL 45.3125 0 \nL 45.3125 8.40625 \nQ 42.046875 3.421875 37.71875 1 \nQ 33.40625 -1.421875 27.6875 -1.421875 \nQ 18.265625 -1.421875 13.375 4.4375 \nQ 8.5 10.296875 8.5 21.578125 \nz\nM 31.109375 56 \nz\n\" id=\"DejaVuSans-117\"/>\n      <path d=\"M 44.28125 53.078125 \nL 44.28125 44.578125 \nQ 40.484375 46.53125 36.375 47.5 \nQ 32.28125 48.484375 27.875 48.484375 \nQ 21.1875 48.484375 17.84375 46.4375 \nQ 14.5 44.390625 14.5 40.28125 \nQ 14.5 37.15625 16.890625 35.375 \nQ 19.28125 33.59375 26.515625 31.984375 \nL 29.59375 31.296875 \nQ 39.15625 29.25 43.1875 25.515625 \nQ 47.21875 21.78125 47.21875 15.09375 \nQ 47.21875 7.46875 41.1875 3.015625 \nQ 35.15625 -1.421875 24.609375 -1.421875 \nQ 20.21875 -1.421875 15.453125 -0.5625 \nQ 10.6875 0.296875 5.421875 2 \nL 5.421875 11.28125 \nQ 10.40625 8.6875 15.234375 7.390625 \nQ 20.0625 6.109375 24.8125 6.109375 \nQ 31.15625 6.109375 34.5625 8.28125 \nQ 37.984375 10.453125 37.984375 14.40625 \nQ 37.984375 18.0625 35.515625 20.015625 \nQ 33.0625 21.96875 24.703125 23.78125 \nL 21.578125 24.515625 \nQ 13.234375 26.265625 9.515625 29.90625 \nQ 5.8125 33.546875 5.8125 39.890625 \nQ 5.8125 47.609375 11.28125 51.796875 \nQ 16.75 56 26.8125 56 \nQ 31.78125 56 36.171875 55.265625 \nQ 40.578125 54.546875 44.28125 53.078125 \nz\n\" id=\"DejaVuSans-115\"/>\n      <path d=\"M 18.3125 70.21875 \nL 18.3125 54.6875 \nL 36.8125 54.6875 \nL 36.8125 47.703125 \nL 18.3125 47.703125 \nL 18.3125 18.015625 \nQ 18.3125 11.328125 20.140625 9.421875 \nQ 21.96875 7.515625 27.59375 7.515625 \nL 36.8125 7.515625 \nL 36.8125 0 \nL 27.59375 0 \nQ 17.1875 0 13.234375 3.875 \nQ 9.28125 7.765625 9.28125 18.015625 \nL 9.28125 47.703125 \nL 2.6875 47.703125 \nL 2.6875 54.6875 \nL 9.28125 54.6875 \nL 9.28125 70.21875 \nz\n\" id=\"DejaVuSans-116\"/>\n     </defs>\n     <g transform=\"translate(165.016406 268.514687)scale(0.1 -0.1)\">\n      <use xlink:href=\"#DejaVuSans-78\"/>\n      <use x=\"74.804688\" xlink:href=\"#DejaVuSans-250\"/>\n      <use x=\"138.183594\" xlink:href=\"#DejaVuSans-109\"/>\n      <use x=\"235.595703\" xlink:href=\"#DejaVuSans-101\"/>\n      <use x=\"297.119141\" xlink:href=\"#DejaVuSans-114\"/>\n      <use x=\"338.201172\" xlink:href=\"#DejaVuSans-111\"/>\n      <use x=\"399.382812\" xlink:href=\"#DejaVuSans-32\"/>\n      <use x=\"431.169922\" xlink:href=\"#DejaVuSans-100\"/>\n      <use x=\"494.646484\" xlink:href=\"#DejaVuSans-101\"/>\n      <use x=\"556.169922\" xlink:href=\"#DejaVuSans-32\"/>\n      <use x=\"587.957031\" xlink:href=\"#DejaVuSans-67\"/>\n      <use x=\"657.78125\" xlink:href=\"#DejaVuSans-108\"/>\n      <use x=\"685.564453\" xlink:href=\"#DejaVuSans-117\"/>\n      <use x=\"748.943359\" xlink:href=\"#DejaVuSans-115\"/>\n      <use x=\"801.042969\" xlink:href=\"#DejaVuSans-116\"/>\n      <use x=\"840.251953\" xlink:href=\"#DejaVuSans-101\"/>\n      <use x=\"901.775391\" xlink:href=\"#DejaVuSans-114\"/>\n      <use x=\"942.888672\" xlink:href=\"#DejaVuSans-115\"/>\n     </g>\n    </g>\n   </g>\n   <g id=\"matplotlib.axis_2\">\n    <g id=\"ytick_1\">\n     <g id=\"line2d_11\">\n      <path clip-path=\"url(#p7f1d0a6cc6)\" d=\"M 47.365625 240.238125 \nL 382.165625 240.238125 \n\" style=\"fill:none;stroke:#b0b0b0;stroke-linecap:square;stroke-width:0.8;\"/>\n     </g>\n     <g id=\"line2d_12\">\n      <defs>\n       <path d=\"M 0 0 \nL -3.5 0 \n\" id=\"m575f95c8fe\" style=\"stroke:#000000;stroke-width:0.8;\"/>\n      </defs>\n      <g>\n       <use style=\"stroke:#000000;stroke-width:0.8;\" x=\"47.365625\" xlink:href=\"#m575f95c8fe\" y=\"240.238125\"/>\n      </g>\n     </g>\n     <g id=\"text_7\">\n      <!-- 0 -->\n      <g transform=\"translate(34.003125 244.037344)scale(0.1 -0.1)\">\n       <use xlink:href=\"#DejaVuSans-48\"/>\n      </g>\n     </g>\n    </g>\n    <g id=\"ytick_2\">\n     <g id=\"line2d_13\">\n      <path clip-path=\"url(#p7f1d0a6cc6)\" d=\"M 47.365625 196.750125 \nL 382.165625 196.750125 \n\" style=\"fill:none;stroke:#b0b0b0;stroke-linecap:square;stroke-width:0.8;\"/>\n     </g>\n     <g id=\"line2d_14\">\n      <g>\n       <use style=\"stroke:#000000;stroke-width:0.8;\" x=\"47.365625\" xlink:href=\"#m575f95c8fe\" y=\"196.750125\"/>\n      </g>\n     </g>\n     <g id=\"text_8\">\n      <!-- 20 -->\n      <g transform=\"translate(27.640625 200.549344)scale(0.1 -0.1)\">\n       <use xlink:href=\"#DejaVuSans-50\"/>\n       <use x=\"63.623047\" xlink:href=\"#DejaVuSans-48\"/>\n      </g>\n     </g>\n    </g>\n    <g id=\"ytick_3\">\n     <g id=\"line2d_15\">\n      <path clip-path=\"url(#p7f1d0a6cc6)\" d=\"M 47.365625 153.262125 \nL 382.165625 153.262125 \n\" style=\"fill:none;stroke:#b0b0b0;stroke-linecap:square;stroke-width:0.8;\"/>\n     </g>\n     <g id=\"line2d_16\">\n      <g>\n       <use style=\"stroke:#000000;stroke-width:0.8;\" x=\"47.365625\" xlink:href=\"#m575f95c8fe\" y=\"153.262125\"/>\n      </g>\n     </g>\n     <g id=\"text_9\">\n      <!-- 40 -->\n      <g transform=\"translate(27.640625 157.061344)scale(0.1 -0.1)\">\n       <use xlink:href=\"#DejaVuSans-52\"/>\n       <use x=\"63.623047\" xlink:href=\"#DejaVuSans-48\"/>\n      </g>\n     </g>\n    </g>\n    <g id=\"ytick_4\">\n     <g id=\"line2d_17\">\n      <path clip-path=\"url(#p7f1d0a6cc6)\" d=\"M 47.365625 109.774125 \nL 382.165625 109.774125 \n\" style=\"fill:none;stroke:#b0b0b0;stroke-linecap:square;stroke-width:0.8;\"/>\n     </g>\n     <g id=\"line2d_18\">\n      <g>\n       <use style=\"stroke:#000000;stroke-width:0.8;\" x=\"47.365625\" xlink:href=\"#m575f95c8fe\" y=\"109.774125\"/>\n      </g>\n     </g>\n     <g id=\"text_10\">\n      <!-- 60 -->\n      <g transform=\"translate(27.640625 113.573344)scale(0.1 -0.1)\">\n       <use xlink:href=\"#DejaVuSans-54\"/>\n       <use x=\"63.623047\" xlink:href=\"#DejaVuSans-48\"/>\n      </g>\n     </g>\n    </g>\n    <g id=\"ytick_5\">\n     <g id=\"line2d_19\">\n      <path clip-path=\"url(#p7f1d0a6cc6)\" d=\"M 47.365625 66.286125 \nL 382.165625 66.286125 \n\" style=\"fill:none;stroke:#b0b0b0;stroke-linecap:square;stroke-width:0.8;\"/>\n     </g>\n     <g id=\"line2d_20\">\n      <g>\n       <use style=\"stroke:#000000;stroke-width:0.8;\" x=\"47.365625\" xlink:href=\"#m575f95c8fe\" y=\"66.286125\"/>\n      </g>\n     </g>\n     <g id=\"text_11\">\n      <!-- 80 -->\n      <g transform=\"translate(27.640625 70.085344)scale(0.1 -0.1)\">\n       <use xlink:href=\"#DejaVuSans-56\"/>\n       <use x=\"63.623047\" xlink:href=\"#DejaVuSans-48\"/>\n      </g>\n     </g>\n    </g>\n    <g id=\"ytick_6\">\n     <g id=\"line2d_21\">\n      <path clip-path=\"url(#p7f1d0a6cc6)\" d=\"M 47.365625 22.798125 \nL 382.165625 22.798125 \n\" style=\"fill:none;stroke:#b0b0b0;stroke-linecap:square;stroke-width:0.8;\"/>\n     </g>\n     <g id=\"line2d_22\">\n      <g>\n       <use style=\"stroke:#000000;stroke-width:0.8;\" x=\"47.365625\" xlink:href=\"#m575f95c8fe\" y=\"22.798125\"/>\n      </g>\n     </g>\n     <g id=\"text_12\">\n      <!-- 100 -->\n      <g transform=\"translate(21.278125 26.597344)scale(0.1 -0.1)\">\n       <use xlink:href=\"#DejaVuSans-49\"/>\n       <use x=\"63.623047\" xlink:href=\"#DejaVuSans-48\"/>\n       <use x=\"127.246094\" xlink:href=\"#DejaVuSans-48\"/>\n      </g>\n     </g>\n    </g>\n    <g id=\"text_13\">\n     <!-- Percentual de Variância Explicada -->\n     <defs>\n      <path d=\"M 19.671875 64.796875 \nL 19.671875 37.40625 \nL 32.078125 37.40625 \nQ 38.96875 37.40625 42.71875 40.96875 \nQ 46.484375 44.53125 46.484375 51.125 \nQ 46.484375 57.671875 42.71875 61.234375 \nQ 38.96875 64.796875 32.078125 64.796875 \nz\nM 9.8125 72.90625 \nL 32.078125 72.90625 \nQ 44.34375 72.90625 50.609375 67.359375 \nQ 56.890625 61.8125 56.890625 51.125 \nQ 56.890625 40.328125 50.609375 34.8125 \nQ 44.34375 29.296875 32.078125 29.296875 \nL 19.671875 29.296875 \nL 19.671875 0 \nL 9.8125 0 \nz\n\" id=\"DejaVuSans-80\"/>\n      <path d=\"M 48.78125 52.59375 \nL 48.78125 44.1875 \nQ 44.96875 46.296875 41.140625 47.34375 \nQ 37.3125 48.390625 33.40625 48.390625 \nQ 24.65625 48.390625 19.8125 42.84375 \nQ 14.984375 37.3125 14.984375 27.296875 \nQ 14.984375 17.28125 19.8125 11.734375 \nQ 24.65625 6.203125 33.40625 6.203125 \nQ 37.3125 6.203125 41.140625 7.25 \nQ 44.96875 8.296875 48.78125 10.40625 \nL 48.78125 2.09375 \nQ 45.015625 0.34375 40.984375 -0.53125 \nQ 36.96875 -1.421875 32.421875 -1.421875 \nQ 20.0625 -1.421875 12.78125 6.34375 \nQ 5.515625 14.109375 5.515625 27.296875 \nQ 5.515625 40.671875 12.859375 48.328125 \nQ 20.21875 56 33.015625 56 \nQ 37.15625 56 41.109375 55.140625 \nQ 45.0625 54.296875 48.78125 52.59375 \nz\n\" id=\"DejaVuSans-99\"/>\n      <path d=\"M 54.890625 33.015625 \nL 54.890625 0 \nL 45.90625 0 \nL 45.90625 32.71875 \nQ 45.90625 40.484375 42.875 44.328125 \nQ 39.84375 48.1875 33.796875 48.1875 \nQ 26.515625 48.1875 22.3125 43.546875 \nQ 18.109375 38.921875 18.109375 30.90625 \nL 18.109375 0 \nL 9.078125 0 \nL 9.078125 54.6875 \nL 18.109375 54.6875 \nL 18.109375 46.1875 \nQ 21.34375 51.125 25.703125 53.5625 \nQ 30.078125 56 35.796875 56 \nQ 45.21875 56 50.046875 50.171875 \nQ 54.890625 44.34375 54.890625 33.015625 \nz\n\" id=\"DejaVuSans-110\"/>\n      <path d=\"M 34.28125 27.484375 \nQ 23.390625 27.484375 19.1875 25 \nQ 14.984375 22.515625 14.984375 16.5 \nQ 14.984375 11.71875 18.140625 8.90625 \nQ 21.296875 6.109375 26.703125 6.109375 \nQ 34.1875 6.109375 38.703125 11.40625 \nQ 43.21875 16.703125 43.21875 25.484375 \nL 43.21875 27.484375 \nz\nM 52.203125 31.203125 \nL 52.203125 0 \nL 43.21875 0 \nL 43.21875 8.296875 \nQ 40.140625 3.328125 35.546875 0.953125 \nQ 30.953125 -1.421875 24.3125 -1.421875 \nQ 15.921875 -1.421875 10.953125 3.296875 \nQ 6 8.015625 6 15.921875 \nQ 6 25.140625 12.171875 29.828125 \nQ 18.359375 34.515625 30.609375 34.515625 \nL 43.21875 34.515625 \nL 43.21875 35.40625 \nQ 43.21875 41.609375 39.140625 45 \nQ 35.0625 48.390625 27.6875 48.390625 \nQ 23 48.390625 18.546875 47.265625 \nQ 14.109375 46.140625 10.015625 43.890625 \nL 10.015625 52.203125 \nQ 14.9375 54.109375 19.578125 55.046875 \nQ 24.21875 56 28.609375 56 \nQ 40.484375 56 46.34375 49.84375 \nQ 52.203125 43.703125 52.203125 31.203125 \nz\n\" id=\"DejaVuSans-97\"/>\n      <path d=\"M 28.609375 0 \nL 0.78125 72.90625 \nL 11.078125 72.90625 \nL 34.1875 11.53125 \nL 57.328125 72.90625 \nL 67.578125 72.90625 \nL 39.796875 0 \nz\n\" id=\"DejaVuSans-86\"/>\n      <path d=\"M 9.421875 54.6875 \nL 18.40625 54.6875 \nL 18.40625 0 \nL 9.421875 0 \nz\nM 9.421875 75.984375 \nL 18.40625 75.984375 \nL 18.40625 64.59375 \nL 9.421875 64.59375 \nz\n\" id=\"DejaVuSans-105\"/>\n      <path d=\"M 34.28125 27.484375 \nQ 23.390625 27.484375 19.1875 25 \nQ 14.984375 22.515625 14.984375 16.5 \nQ 14.984375 11.71875 18.140625 8.90625 \nQ 21.296875 6.109375 26.703125 6.109375 \nQ 34.1875 6.109375 38.703125 11.40625 \nQ 43.21875 16.703125 43.21875 25.484375 \nL 43.21875 27.484375 \nz\nM 52.203125 31.203125 \nL 52.203125 0 \nL 43.21875 0 \nL 43.21875 8.296875 \nQ 40.140625 3.328125 35.546875 0.953125 \nQ 30.953125 -1.421875 24.3125 -1.421875 \nQ 15.921875 -1.421875 10.953125 3.296875 \nQ 6 8.015625 6 15.921875 \nQ 6 25.140625 12.171875 29.828125 \nQ 18.359375 34.515625 30.609375 34.515625 \nL 43.21875 34.515625 \nL 43.21875 35.40625 \nQ 43.21875 41.609375 39.140625 45 \nQ 35.0625 48.390625 27.6875 48.390625 \nQ 23 48.390625 18.546875 47.265625 \nQ 14.109375 46.140625 10.015625 43.890625 \nL 10.015625 52.203125 \nQ 14.9375 54.109375 19.578125 55.046875 \nQ 24.21875 56 28.609375 56 \nQ 40.484375 56 46.34375 49.84375 \nQ 52.203125 43.703125 52.203125 31.203125 \nz\nM 25.390625 79.984375 \nL 32.625 79.984375 \nL 44.578125 61.625 \nL 37.796875 61.625 \nL 29 73.578125 \nL 20.21875 61.625 \nL 13.421875 61.625 \nz\n\" id=\"DejaVuSans-226\"/>\n      <path d=\"M 9.8125 72.90625 \nL 55.90625 72.90625 \nL 55.90625 64.59375 \nL 19.671875 64.59375 \nL 19.671875 43.015625 \nL 54.390625 43.015625 \nL 54.390625 34.71875 \nL 19.671875 34.71875 \nL 19.671875 8.296875 \nL 56.78125 8.296875 \nL 56.78125 0 \nL 9.8125 0 \nz\n\" id=\"DejaVuSans-69\"/>\n      <path d=\"M 54.890625 54.6875 \nL 35.109375 28.078125 \nL 55.90625 0 \nL 45.3125 0 \nL 29.390625 21.484375 \nL 13.484375 0 \nL 2.875 0 \nL 24.125 28.609375 \nL 4.6875 54.6875 \nL 15.28125 54.6875 \nL 29.78125 35.203125 \nL 44.28125 54.6875 \nz\n\" id=\"DejaVuSans-120\"/>\n      <path d=\"M 18.109375 8.203125 \nL 18.109375 -20.796875 \nL 9.078125 -20.796875 \nL 9.078125 54.6875 \nL 18.109375 54.6875 \nL 18.109375 46.390625 \nQ 20.953125 51.265625 25.265625 53.625 \nQ 29.59375 56 35.59375 56 \nQ 45.5625 56 51.78125 48.09375 \nQ 58.015625 40.1875 58.015625 27.296875 \nQ 58.015625 14.40625 51.78125 6.484375 \nQ 45.5625 -1.421875 35.59375 -1.421875 \nQ 29.59375 -1.421875 25.265625 0.953125 \nQ 20.953125 3.328125 18.109375 8.203125 \nz\nM 48.6875 27.296875 \nQ 48.6875 37.203125 44.609375 42.84375 \nQ 40.53125 48.484375 33.40625 48.484375 \nQ 26.265625 48.484375 22.1875 42.84375 \nQ 18.109375 37.203125 18.109375 27.296875 \nQ 18.109375 17.390625 22.1875 11.75 \nQ 26.265625 6.109375 33.40625 6.109375 \nQ 40.53125 6.109375 44.609375 11.75 \nQ 48.6875 17.390625 48.6875 27.296875 \nz\n\" id=\"DejaVuSans-112\"/>\n     </defs>\n     <g transform=\"translate(15.198438 216.736875)rotate(-90)scale(0.1 -0.1)\">\n      <use xlink:href=\"#DejaVuSans-80\"/>\n      <use x=\"60.255859\" xlink:href=\"#DejaVuSans-101\"/>\n      <use x=\"121.779297\" xlink:href=\"#DejaVuSans-114\"/>\n      <use x=\"162.861328\" xlink:href=\"#DejaVuSans-99\"/>\n      <use x=\"217.841797\" xlink:href=\"#DejaVuSans-101\"/>\n      <use x=\"279.365234\" xlink:href=\"#DejaVuSans-110\"/>\n      <use x=\"342.744141\" xlink:href=\"#DejaVuSans-116\"/>\n      <use x=\"381.953125\" xlink:href=\"#DejaVuSans-117\"/>\n      <use x=\"445.332031\" xlink:href=\"#DejaVuSans-97\"/>\n      <use x=\"506.611328\" xlink:href=\"#DejaVuSans-108\"/>\n      <use x=\"534.394531\" xlink:href=\"#DejaVuSans-32\"/>\n      <use x=\"566.181641\" xlink:href=\"#DejaVuSans-100\"/>\n      <use x=\"629.658203\" xlink:href=\"#DejaVuSans-101\"/>\n      <use x=\"691.181641\" xlink:href=\"#DejaVuSans-32\"/>\n      <use x=\"722.96875\" xlink:href=\"#DejaVuSans-86\"/>\n      <use x=\"791.267578\" xlink:href=\"#DejaVuSans-97\"/>\n      <use x=\"852.546875\" xlink:href=\"#DejaVuSans-114\"/>\n      <use x=\"893.660156\" xlink:href=\"#DejaVuSans-105\"/>\n      <use x=\"921.443359\" xlink:href=\"#DejaVuSans-226\"/>\n      <use x=\"982.722656\" xlink:href=\"#DejaVuSans-110\"/>\n      <use x=\"1046.101562\" xlink:href=\"#DejaVuSans-99\"/>\n      <use x=\"1101.082031\" xlink:href=\"#DejaVuSans-105\"/>\n      <use x=\"1128.865234\" xlink:href=\"#DejaVuSans-97\"/>\n      <use x=\"1190.144531\" xlink:href=\"#DejaVuSans-32\"/>\n      <use x=\"1221.931641\" xlink:href=\"#DejaVuSans-69\"/>\n      <use x=\"1285.115234\" xlink:href=\"#DejaVuSans-120\"/>\n      <use x=\"1344.294922\" xlink:href=\"#DejaVuSans-112\"/>\n      <use x=\"1407.771484\" xlink:href=\"#DejaVuSans-108\"/>\n      <use x=\"1435.554688\" xlink:href=\"#DejaVuSans-105\"/>\n      <use x=\"1463.337891\" xlink:href=\"#DejaVuSans-99\"/>\n      <use x=\"1518.318359\" xlink:href=\"#DejaVuSans-97\"/>\n      <use x=\"1579.597656\" xlink:href=\"#DejaVuSans-100\"/>\n      <use x=\"1643.074219\" xlink:href=\"#DejaVuSans-97\"/>\n     </g>\n    </g>\n   </g>\n   <g id=\"line2d_23\">\n    <path clip-path=\"url(#p7f1d0a6cc6)\" d=\"M 62.583807 240.238127 \nL 93.02017 33.635414 \nL 123.456534 25.037274 \nL 153.892898 23.366785 \nL 184.329261 22.911386 \nL 214.765625 22.806728 \nL 245.201989 22.803686 \nL 275.638352 22.801956 \nL 306.074716 22.800524 \nL 336.51108 22.799819 \nL 366.947443 22.799183 \n\" style=\"fill:none;stroke:#0000ff;stroke-linecap:square;stroke-width:1.5;\"/>\n    <defs>\n     <path d=\"M 0 -3 \nL -0.673542 -0.927051 \nL -2.85317 -0.927051 \nL -1.089814 0.354102 \nL -1.763356 2.427051 \nL -0 1.145898 \nL 1.763356 2.427051 \nL 1.089814 0.354102 \nL 2.85317 -0.927051 \nL 0.673542 -0.927051 \nz\n\" id=\"m033b28bdf6\" style=\"stroke:#0000ff;stroke-linejoin:bevel;\"/>\n    </defs>\n    <g clip-path=\"url(#p7f1d0a6cc6)\">\n     <use style=\"fill:#0000ff;stroke:#0000ff;stroke-linejoin:bevel;\" x=\"62.583807\" xlink:href=\"#m033b28bdf6\" y=\"240.238127\"/>\n     <use style=\"fill:#0000ff;stroke:#0000ff;stroke-linejoin:bevel;\" x=\"93.02017\" xlink:href=\"#m033b28bdf6\" y=\"33.635414\"/>\n     <use style=\"fill:#0000ff;stroke:#0000ff;stroke-linejoin:bevel;\" x=\"123.456534\" xlink:href=\"#m033b28bdf6\" y=\"25.037274\"/>\n     <use style=\"fill:#0000ff;stroke:#0000ff;stroke-linejoin:bevel;\" x=\"153.892898\" xlink:href=\"#m033b28bdf6\" y=\"23.366785\"/>\n     <use style=\"fill:#0000ff;stroke:#0000ff;stroke-linejoin:bevel;\" x=\"184.329261\" xlink:href=\"#m033b28bdf6\" y=\"22.911386\"/>\n     <use style=\"fill:#0000ff;stroke:#0000ff;stroke-linejoin:bevel;\" x=\"214.765625\" xlink:href=\"#m033b28bdf6\" y=\"22.806728\"/>\n     <use style=\"fill:#0000ff;stroke:#0000ff;stroke-linejoin:bevel;\" x=\"245.201989\" xlink:href=\"#m033b28bdf6\" y=\"22.803686\"/>\n     <use style=\"fill:#0000ff;stroke:#0000ff;stroke-linejoin:bevel;\" x=\"275.638352\" xlink:href=\"#m033b28bdf6\" y=\"22.801956\"/>\n     <use style=\"fill:#0000ff;stroke:#0000ff;stroke-linejoin:bevel;\" x=\"306.074716\" xlink:href=\"#m033b28bdf6\" y=\"22.800524\"/>\n     <use style=\"fill:#0000ff;stroke:#0000ff;stroke-linejoin:bevel;\" x=\"336.51108\" xlink:href=\"#m033b28bdf6\" y=\"22.799819\"/>\n     <use style=\"fill:#0000ff;stroke:#0000ff;stroke-linejoin:bevel;\" x=\"366.947443\" xlink:href=\"#m033b28bdf6\" y=\"22.799183\"/>\n    </g>\n   </g>\n   <g id=\"patch_3\">\n    <path d=\"M 47.365625 240.238125 \nL 47.365625 22.798125 \n\" style=\"fill:none;stroke:#000000;stroke-linecap:square;stroke-linejoin:miter;stroke-width:0.8;\"/>\n   </g>\n   <g id=\"patch_4\">\n    <path d=\"M 382.165625 240.238125 \nL 382.165625 22.798125 \n\" style=\"fill:none;stroke:#000000;stroke-linecap:square;stroke-linejoin:miter;stroke-width:0.8;\"/>\n   </g>\n   <g id=\"patch_5\">\n    <path d=\"M 47.365625 240.238125 \nL 382.165625 240.238125 \n\" style=\"fill:none;stroke:#000000;stroke-linecap:square;stroke-linejoin:miter;stroke-width:0.8;\"/>\n   </g>\n   <g id=\"patch_6\">\n    <path d=\"M 47.365625 22.798125 \nL 382.165625 22.798125 \n\" style=\"fill:none;stroke:#000000;stroke-linecap:square;stroke-linejoin:miter;stroke-width:0.8;\"/>\n   </g>\n   <g id=\"text_14\">\n    <!-- Variância Explicada x Valor de K -->\n    <defs>\n     <path d=\"M 9.8125 72.90625 \nL 19.671875 72.90625 \nL 19.671875 42.09375 \nL 52.390625 72.90625 \nL 65.09375 72.90625 \nL 28.90625 38.921875 \nL 67.671875 0 \nL 54.6875 0 \nL 19.671875 35.109375 \nL 19.671875 0 \nL 9.8125 0 \nz\n\" id=\"DejaVuSans-75\"/>\n    </defs>\n    <g transform=\"translate(117.6875 16.798125)scale(0.12 -0.12)\">\n     <use xlink:href=\"#DejaVuSans-86\"/>\n     <use x=\"68.298828\" xlink:href=\"#DejaVuSans-97\"/>\n     <use x=\"129.578125\" xlink:href=\"#DejaVuSans-114\"/>\n     <use x=\"170.691406\" xlink:href=\"#DejaVuSans-105\"/>\n     <use x=\"198.474609\" xlink:href=\"#DejaVuSans-226\"/>\n     <use x=\"259.753906\" xlink:href=\"#DejaVuSans-110\"/>\n     <use x=\"323.132812\" xlink:href=\"#DejaVuSans-99\"/>\n     <use x=\"378.113281\" xlink:href=\"#DejaVuSans-105\"/>\n     <use x=\"405.896484\" xlink:href=\"#DejaVuSans-97\"/>\n     <use x=\"467.175781\" xlink:href=\"#DejaVuSans-32\"/>\n     <use x=\"498.962891\" xlink:href=\"#DejaVuSans-69\"/>\n     <use x=\"562.146484\" xlink:href=\"#DejaVuSans-120\"/>\n     <use x=\"621.326172\" xlink:href=\"#DejaVuSans-112\"/>\n     <use x=\"684.802734\" xlink:href=\"#DejaVuSans-108\"/>\n     <use x=\"712.585938\" xlink:href=\"#DejaVuSans-105\"/>\n     <use x=\"740.369141\" xlink:href=\"#DejaVuSans-99\"/>\n     <use x=\"795.349609\" xlink:href=\"#DejaVuSans-97\"/>\n     <use x=\"856.628906\" xlink:href=\"#DejaVuSans-100\"/>\n     <use x=\"920.105469\" xlink:href=\"#DejaVuSans-97\"/>\n     <use x=\"981.384766\" xlink:href=\"#DejaVuSans-32\"/>\n     <use x=\"1013.171875\" xlink:href=\"#DejaVuSans-120\"/>\n     <use x=\"1072.351562\" xlink:href=\"#DejaVuSans-32\"/>\n     <use x=\"1104.138672\" xlink:href=\"#DejaVuSans-86\"/>\n     <use x=\"1172.4375\" xlink:href=\"#DejaVuSans-97\"/>\n     <use x=\"1233.716797\" xlink:href=\"#DejaVuSans-108\"/>\n     <use x=\"1261.5\" xlink:href=\"#DejaVuSans-111\"/>\n     <use x=\"1322.681641\" xlink:href=\"#DejaVuSans-114\"/>\n     <use x=\"1363.794922\" xlink:href=\"#DejaVuSans-32\"/>\n     <use x=\"1395.582031\" xlink:href=\"#DejaVuSans-100\"/>\n     <use x=\"1459.058594\" xlink:href=\"#DejaVuSans-101\"/>\n     <use x=\"1520.582031\" xlink:href=\"#DejaVuSans-32\"/>\n     <use x=\"1552.369141\" xlink:href=\"#DejaVuSans-75\"/>\n    </g>\n   </g>\n  </g>\n </g>\n <defs>\n  <clipPath id=\"p7f1d0a6cc6\">\n   <rect height=\"217.44\" width=\"334.8\" x=\"47.365625\" y=\"22.798125\"/>\n  </clipPath>\n </defs>\n</svg>\n",
      "image/png": "[encoded data removed]"
     },
     "metadata": {
      "needs_background": "light"
     }
    }
   ],
   "source": [
    "# Curva de Elbow\n",
    "fig = plt.figure()\n",
    "ax = fig.add_subplot(111)\n",
    "ax.plot(k_range, soma_quadrados_inter_cluster/soma_total * 100, 'b*-')\n",
    "ax.set_ylim((0,100))\n",
    "plt.grid(True)\n",
    "plt.xlabel('Número de Clusters')\n",
    "plt.ylabel('Percentual de Variância Explicada')\n",
    "plt.title('Variância Explicada x Valor de K')"
   ]
  },
  {
   "cell_type": "code",
   "execution_count": 39,
   "metadata": {},
   "outputs": [
    {
     "output_type": "execute_result",
     "data": {
      "text/plain": [
       "KMeans(algorithm='auto', copy_x=True, init='k-means++', max_iter=300,\n",
       "       n_clusters=3, n_init=10, n_jobs=None, precompute_distances='auto',\n",
       "       random_state=None, tol=0.0001, verbose=0)"
      ]
     },
     "metadata": {},
     "execution_count": 39
    }
   ],
   "source": [
    "# Criando um modelo com K = 3\n",
    "modelo = KMeans(n_clusters = 3)\n",
    "modelo.fit(pca)"
   ]
  },
  {
   "cell_type": "code",
   "execution_count": 42,
   "metadata": {},
   "outputs": [
    {
     "output_type": "execute_result",
     "data": {
      "text/plain": [
       "0.999783877499161"
      ]
     },
     "metadata": {},
     "execution_count": 42
    }
   ],
   "source": [
    "# Silhouette Score\n",
    "labels = modelo.labels_\n",
    "silhouette_score(pca, labels, metric = 'euclidean')"
   ]
  },
  {
   "cell_type": "code",
   "execution_count": 43,
   "metadata": {},
   "outputs": [],
   "source": [
    "# Cria o cluster map\n",
    "colunas = [\"Periodo\", \"Processo\", \"Ano do Processo\", \"CPF/CNPJ\", \"Pessoa Física/Jurídica\", \"Fase do Processo\", \"Substância\", \"Uf\", \"Município\", \"Unidade de Medida\",\"Quantidade Comercializada\", \"Valor Recolhido (CFEM)\"]\n",
    "cluster_map = pd.DataFrame(dataset, columns = colunas)\n",
    "cluster_map['cluster'] = modelo.labels_"
   ]
  },
  {
   "cell_type": "code",
   "execution_count": 44,
   "metadata": {},
   "outputs": [
    {
     "output_type": "execute_result",
     "data": {
      "text/plain": [
       "        Periodo  Processo  Ano do Processo            CPF/CNPJ  \\\n",
       "114858     2015  811210.0           2011.0  90.063.470/0001-97   \n",
       "179815     2019  834633.0           1995.0  19.061.472/0001-82   \n",
       "143496     2017  816020.0           2013.0  92.791.243/0001-03   \n",
       "109223     2014  890116.0           1997.0  29.627.007/0001-10   \n",
       "79976      2012  815322.0           2000.0  79.305.884/0001-42   \n",
       "...         ...       ...              ...                 ...   \n",
       "137125     2016  890337.0           1981.0  32.487.266/0001-05   \n",
       "47097      2008  866987.0           1991.0  15.443.617/0001-59   \n",
       "145095     2017  826085.0           2004.0  03.881.708/0001-97   \n",
       "191449     2020  820213.0           2004.0  00.250.680/0001-00   \n",
       "67891      2011    6498.0           1961.0  04.660.182/0001-88   \n",
       "\n",
       "                        Pessoa Física/Jurídica    Fase do Processo  \\\n",
       "114858     Conpasul Construção e Serviços Ltda       Licenciamento   \n",
       "179815        Porto de Areia São Geraldo Ltda.  Concessão de Lavra   \n",
       "143496            IRANI PAPEL E EMBALAGEM S.A.       Licenciamento   \n",
       "109223  Estância Hidromineral Soledade LTDA ME  Concessão de Lavra   \n",
       "79976    Extração de Areia Verde Vale Ltda Epp       Licenciamento   \n",
       "...                                        ...                 ...   \n",
       "137125             Pedreira Volta Redonda Ltda       Licenciamento   \n",
       "47097                   CERÂMICA FIGUEIRA LTDA       Licenciamento   \n",
       "145095          Rodrigo Luis Hobi e Cia. Ltda.  Concessão de Lavra   \n",
       "191449   Fonte Jardim Comercio de Agua Ltda Me  Concessão de Lavra   \n",
       "67891                    Baovale Mineração Sa.  Concessão de Lavra   \n",
       "\n",
       "          Substância  Uf                 Município Unidade de Medida  \\\n",
       "114858      CASCALHO  RS                 VERA CRUZ                m3   \n",
       "179815         AREIA  MG                   UBERABA                 t   \n",
       "143496      CASCALHO  SC             PONTE SERRADA                 t   \n",
       "109223  ÁGUA MINERAL  RJ                 ITAPERUNA                 l   \n",
       "79976          AREIA  SC            RIO DOS CEDROS                m3   \n",
       "...              ...  ..                       ...               ...   \n",
       "137125       GNAISSE  RJ             VOLTA REDONDA                m3   \n",
       "47097         ARGILA  MS  RIO VERDE DE MATO GROSSO                 t   \n",
       "145095      DIABÁSIO  PR         SÃO MATEUS DO SUL                 t   \n",
       "191449  ÁGUA MINERAL  SP                   CACONDE                 l   \n",
       "67891          FERRO  MG            RIO PIRACICABA                 t   \n",
       "\n",
       "        Quantidade Comercializada  Valor Recolhido (CFEM)  cluster  \n",
       "114858               4.284600e+04                 2477.03        0  \n",
       "179815               4.470000e+02                   64.85        0  \n",
       "143496               8.094000e+03                  752.74        0  \n",
       "109223               1.514777e+06                 6220.35        0  \n",
       "79976                2.429630e+05                   58.30        0  \n",
       "...                           ...                     ...      ...  \n",
       "137125               1.481293e+06               125948.46        0  \n",
       "47097                7.217756e+05                 2616.15        0  \n",
       "145095               2.224656e+04               112566.81        0  \n",
       "191449               5.264489e+07                  750.89        0  \n",
       "67891                2.365784e+06              6222981.82        0  \n",
       "\n",
       "[84816 rows x 13 columns]"
      ],
      "text/html": "<div>\n<style scoped>\n    .dataframe tbody tr th:only-of-type {\n        vertical-align: middle;\n    }\n\n    .dataframe tbody tr th {\n        vertical-align: top;\n    }\n\n    .dataframe thead th {\n        text-align: right;\n    }\n</style>\n<table border=\"1\" class=\"dataframe\">\n  <thead>\n    <tr style=\"text-align: right;\">\n      <th></th>\n      <th>Periodo</th>\n      <th>Processo</th>\n      <th>Ano do Processo</th>\n      <th>CPF/CNPJ</th>\n      <th>Pessoa Física/Jurídica</th>\n      <th>Fase do Processo</th>\n      <th>Substância</th>\n      <th>Uf</th>\n      <th>Município</th>\n      <th>Unidade de Medida</th>\n      <th>Quantidade Comercializada</th>\n      <th>Valor Recolhido (CFEM)</th>\n      <th>cluster</th>\n    </tr>\n  </thead>\n  <tbody>\n    <tr>\n      <th>114858</th>\n      <td>2015</td>\n      <td>811210.0</td>\n      <td>2011.0</td>\n      <td>90.063.470/0001-97</td>\n      <td>Conpasul Construção e Serviços Ltda</td>\n      <td>Licenciamento</td>\n      <td>CASCALHO</td>\n      <td>RS</td>\n      <td>VERA CRUZ</td>\n      <td>m3</td>\n      <td>4.284600e+04</td>\n      <td>2477.03</td>\n      <td>0</td>\n    </tr>\n    <tr>\n      <th>179815</th>\n      <td>2019</td>\n      <td>834633.0</td>\n      <td>1995.0</td>\n      <td>19.061.472/0001-82</td>\n      <td>Porto de Areia São Geraldo Ltda.</td>\n      <td>Concessão de Lavra</td>\n      <td>AREIA</td>\n      <td>MG</td>\n      <td>UBERABA</td>\n      <td>t</td>\n      <td>4.470000e+02</td>\n      <td>64.85</td>\n      <td>0</td>\n    </tr>\n    <tr>\n      <th>143496</th>\n      <td>2017</td>\n      <td>816020.0</td>\n      <td>2013.0</td>\n      <td>92.791.243/0001-03</td>\n      <td>IRANI PAPEL E EMBALAGEM S.A.</td>\n      <td>Licenciamento</td>\n      <td>CASCALHO</td>\n      <td>SC</td>\n      <td>PONTE SERRADA</td>\n      <td>t</td>\n      <td>8.094000e+03</td>\n      <td>752.74</td>\n      <td>0</td>\n    </tr>\n    <tr>\n      <th>109223</th>\n      <td>2014</td>\n      <td>890116.0</td>\n      <td>1997.0</td>\n      <td>29.627.007/0001-10</td>\n      <td>Estância Hidromineral Soledade LTDA ME</td>\n      <td>Concessão de Lavra</td>\n      <td>ÁGUA MINERAL</td>\n      <td>RJ</td>\n      <td>ITAPERUNA</td>\n      <td>l</td>\n      <td>1.514777e+06</td>\n      <td>6220.35</td>\n      <td>0</td>\n    </tr>\n    <tr>\n      <th>79976</th>\n      <td>2012</td>\n      <td>815322.0</td>\n      <td>2000.0</td>\n      <td>79.305.884/0001-42</td>\n      <td>Extração de Areia Verde Vale Ltda Epp</td>\n      <td>Licenciamento</td>\n      <td>AREIA</td>\n      <td>SC</td>\n      <td>RIO DOS CEDROS</td>\n      <td>m3</td>\n      <td>2.429630e+05</td>\n      <td>58.30</td>\n      <td>0</td>\n    </tr>\n    <tr>\n      <th>...</th>\n      <td>...</td>\n      <td>...</td>\n      <td>...</td>\n      <td>...</td>\n      <td>...</td>\n      <td>...</td>\n      <td>...</td>\n      <td>...</td>\n      <td>...</td>\n      <td>...</td>\n      <td>...</td>\n      <td>...</td>\n      <td>...</td>\n    </tr>\n    <tr>\n      <th>137125</th>\n      <td>2016</td>\n      <td>890337.0</td>\n      <td>1981.0</td>\n      <td>32.487.266/0001-05</td>\n      <td>Pedreira Volta Redonda Ltda</td>\n      <td>Licenciamento</td>\n      <td>GNAISSE</td>\n      <td>RJ</td>\n      <td>VOLTA REDONDA</td>\n      <td>m3</td>\n      <td>1.481293e+06</td>\n      <td>125948.46</td>\n      <td>0</td>\n    </tr>\n    <tr>\n      <th>47097</th>\n      <td>2008</td>\n      <td>866987.0</td>\n      <td>1991.0</td>\n      <td>15.443.617/0001-59</td>\n      <td>CERÂMICA FIGUEIRA LTDA</td>\n      <td>Licenciamento</td>\n      <td>ARGILA</td>\n      <td>MS</td>\n      <td>RIO VERDE DE MATO GROSSO</td>\n      <td>t</td>\n      <td>7.217756e+05</td>\n      <td>2616.15</td>\n      <td>0</td>\n    </tr>\n    <tr>\n      <th>145095</th>\n      <td>2017</td>\n      <td>826085.0</td>\n      <td>2004.0</td>\n      <td>03.881.708/0001-97</td>\n      <td>Rodrigo Luis Hobi e Cia. Ltda.</td>\n      <td>Concessão de Lavra</td>\n      <td>DIABÁSIO</td>\n      <td>PR</td>\n      <td>SÃO MATEUS DO SUL</td>\n      <td>t</td>\n      <td>2.224656e+04</td>\n      <td>112566.81</td>\n      <td>0</td>\n    </tr>\n    <tr>\n      <th>191449</th>\n      <td>2020</td>\n      <td>820213.0</td>\n      <td>2004.0</td>\n      <td>00.250.680/0001-00</td>\n      <td>Fonte Jardim Comercio de Agua Ltda Me</td>\n      <td>Concessão de Lavra</td>\n      <td>ÁGUA MINERAL</td>\n      <td>SP</td>\n      <td>CACONDE</td>\n      <td>l</td>\n      <td>5.264489e+07</td>\n      <td>750.89</td>\n      <td>0</td>\n    </tr>\n    <tr>\n      <th>67891</th>\n      <td>2011</td>\n      <td>6498.0</td>\n      <td>1961.0</td>\n      <td>04.660.182/0001-88</td>\n      <td>Baovale Mineração Sa.</td>\n      <td>Concessão de Lavra</td>\n      <td>FERRO</td>\n      <td>MG</td>\n      <td>RIO PIRACICABA</td>\n      <td>t</td>\n      <td>2.365784e+06</td>\n      <td>6222981.82</td>\n      <td>0</td>\n    </tr>\n  </tbody>\n</table>\n<p>84816 rows × 13 columns</p>\n</div>"
     },
     "metadata": {},
     "execution_count": 44
    }
   ],
   "source": [
    "cluster_map"
   ]
  },
  {
   "cell_type": "code",
   "execution_count": 45,
   "metadata": {},
   "outputs": [
    {
     "output_type": "execute_result",
     "data": {
      "text/plain": [
       "array([0, 2, 1], dtype=int32)"
      ]
     },
     "metadata": {},
     "execution_count": 45
    }
   ],
   "source": [
    "cluster_map['cluster'].unique()"
   ]
  },
  {
   "cell_type": "code",
   "execution_count": null,
   "metadata": {},
   "outputs": [],
   "source": []
  }
 ],
 "metadata": {
  "kernelspec": {
   "display_name": "Python 3",
   "language": "python",
   "name": "python3"
  },
  "language_info": {
   "codemirror_mode": {
    "name": "ipython",
    "version": 3
   },
   "file_extension": ".py",
   "mimetype": "text/x-python",
   "name": "python",
   "nbconvert_exporter": "python",
   "pygments_lexer": "ipython3",
   "version": "3.7.6-final"
  }
 },
 "nbformat": 4,
 "nbformat_minor": 2
}